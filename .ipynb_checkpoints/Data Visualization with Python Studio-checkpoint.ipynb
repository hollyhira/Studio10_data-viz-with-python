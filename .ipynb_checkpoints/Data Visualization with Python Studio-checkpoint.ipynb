{
 "cells": [
  {
   "cell_type": "markdown",
   "id": "fdf2a936",
   "metadata": {},
   "source": [
    "# Data Visualization with Python Studio\n",
    "\n",
    "At this point, you should already have connected with the rest of your group to divide up who is going to do what. Use this notebook to create your visualizations.\n",
    "\n",
    "Below we set up the dataframe with the Goodreads dataset for you. If you run this cell, you may get an error that some lines were skipped. Do not worry about that! For this studio, we want to focus on creating an effective"
   ]
  },
  {
   "cell_type": "markdown",
   "id": "3346025e",
   "metadata": {},
   "source": [
    "### Columns Description:\n",
    "\n",
    "- bookID Contains the unique ID for each book/series\n",
    "\n",
    "- title contains the titles of the books\n",
    "\n",
    "- authors contains the author of the particular book\n",
    "\n",
    "- average_rating the average rating of the books, as decided by the users\n",
    "\n",
    "- ISBN ISBN(10) number, tells the information about a book - such as edition and publisher\n",
    "\n",
    "- ISBN 13 The new format for ISBN, implemented in 2007. 13 digits\n",
    "\n",
    "- language_code Tells the language for the books\n",
    "\n",
    "- Num_pages Contains the number of pages for the book\n",
    "\n",
    "- Ratings_count Contains the number of ratings given for the book\n",
    "\n",
    "- text_reviews_count Has the count of reviews left by users"
   ]
  },
  {
   "cell_type": "markdown",
   "id": "aab8c5be",
   "metadata": {},
   "source": [
    "**SNS supported palette values are:**\n",
    "\n",
    "\n",
    "'Accent', 'Accent_r', 'Blues', 'Blues_r', 'BrBG', 'BrBG_r', 'BuGn', 'BuGn_r', 'BuPu', 'BuPu_r', 'CMRmap', 'CMRmap_r', 'Dark2', 'Dark2_r', 'GnBu', 'GnBu_r', 'Greens', 'Greens_r', 'Greys', 'Greys_r', 'OrRd', 'OrRd_r', 'Oranges', 'Oranges_r', 'PRGn', 'PRGn_r', 'Paired', 'Paired_r', 'Pastel1', 'Pastel1_r', 'Pastel2', 'Pastel2_r', 'PiYG', 'PiYG_r', 'PuBu', 'PuBuGn', 'PuBuGn_r', 'PuBu_r', 'PuOr', 'PuOr_r', 'PuRd', 'PuRd_r', 'Purples', 'Purples_r', 'RdBu', 'RdBu_r', 'RdGy', 'RdGy_r', 'RdPu', 'RdPu_r', 'RdYlBu', 'RdYlBu_r', 'RdYlGn', 'RdYlGn_r', 'Reds', 'Reds_r', 'Set1', 'Set1_r', 'Set2', 'Set2_r', 'Set3', 'Set3_r', 'Spectral', 'Spectral_r', 'Wistia', 'Wistia_r', 'YlGn', 'YlGnBu', 'YlGnBu_r', 'YlGn_r', 'YlOrBr', 'YlOrBr_r', 'YlOrRd', 'YlOrRd_r', 'afmhot', 'afmhot_r', 'autumn', 'autumn_r', 'binary', 'binary_r', 'bone', 'bone_r', 'brg', 'brg_r', 'bwr', 'bwr_r', 'cividis', 'cividis_r', 'cool', 'cool_r', 'coolwarm', 'coolwarm_r', 'copper', 'copper_r', 'crest', 'crest_r', 'cubehelix', 'cubehelix_r', 'flag', 'flag_r', 'flare', 'flare_r', 'gist_earth', 'gist_earth_r', 'gist_gray', 'gist_gray_r', 'gist_heat', 'gist_heat_r', 'gist_ncar', 'gist_ncar_r', 'gist_rainbow', 'gist_rainbow_r', 'gist_stern', 'gist_stern_r', 'gist_yarg', 'gist_yarg_r', 'gnuplot', 'gnuplot2', 'gnuplot2_r', 'gnuplot_r', 'gray', 'gray_r', 'hot', 'hot_r', 'hsv', 'hsv_r', 'icefire', 'icefire_r', 'inferno', 'inferno_r', 'jet', 'jet_r', 'magma', 'magma_r', 'mako', 'mako_r', 'nipy_spectral', 'nipy_spectral_r', 'ocean', 'ocean_r', 'pink', 'pink_r', 'plasma', 'plasma_r', 'prism', 'prism_r', 'rainbow', 'rainbow_r', 'rocket', 'rocket_r', 'seismic', 'seismic_r', 'spring', 'spring_r', 'summer', 'summer_r', 'tab10', 'tab10_r', 'tab20', 'tab20_r', 'tab20b', 'tab20b_r', 'tab20c', 'tab20c_r', 'terrain', 'terrain_r', 'turbo', 'turbo_r', 'twilight', 'twilight_r', 'twilight_shifted', 'twilight_shifted_r', 'viridis', 'viridis_r', 'vlag', 'vlag_r', 'winter', 'winter_r'"
   ]
  },
  {
   "cell_type": "code",
   "execution_count": 1,
   "id": "577e3a46",
   "metadata": {},
   "outputs": [
    {
     "name": "stderr",
     "output_type": "stream",
     "text": [
      "b'Skipping line 3350: expected 12 fields, saw 13\\nSkipping line 4704: expected 12 fields, saw 13\\nSkipping line 5879: expected 12 fields, saw 13\\nSkipping line 8981: expected 12 fields, saw 13\\n'\n"
     ]
    }
   ],
   "source": [
    "# Here is the setup of the dataframe. Feel free to use .info() or .head() to get a better understanding of what is inside the dataframe!\n",
    "\n",
    "import pandas as pd\n",
    "import numpy as np\n",
    "import seaborn as sns\n",
    "color=sns.color_palette()\n",
    "\n",
    "import matplotlib.pyplot as plt\n",
    "from matplotlib import style\n",
    "\n",
    "df = pd.read_csv(\"books.csv\", error_bad_lines=False)\n",
    "\n",
    "years = []\n",
    "\n",
    "for y in df['publication_date']:\n",
    "    date = y.split(\"/\")\n",
    "    years.append(date[2])\n",
    "\n",
    "df[\"year\"] = years\n"
   ]
  },
  {
   "cell_type": "code",
   "execution_count": 2,
   "id": "db863663",
   "metadata": {},
   "outputs": [],
   "source": [
    "pd.set_option('display.max_columns', None)\n",
    "\n",
    "from IPython.core.interactiveshell import InteractiveShell\n",
    "InteractiveShell.ast_node_interactivity = 'all'\n"
   ]
  },
  {
   "cell_type": "code",
   "execution_count": 3,
   "id": "09e5bf62",
   "metadata": {},
   "outputs": [
    {
     "data": {
      "text/html": [
       "<div>\n",
       "<style scoped>\n",
       "    .dataframe tbody tr th:only-of-type {\n",
       "        vertical-align: middle;\n",
       "    }\n",
       "\n",
       "    .dataframe tbody tr th {\n",
       "        vertical-align: top;\n",
       "    }\n",
       "\n",
       "    .dataframe thead th {\n",
       "        text-align: right;\n",
       "    }\n",
       "</style>\n",
       "<table border=\"1\" class=\"dataframe\">\n",
       "  <thead>\n",
       "    <tr style=\"text-align: right;\">\n",
       "      <th></th>\n",
       "      <th>bookID</th>\n",
       "      <th>title</th>\n",
       "      <th>authors</th>\n",
       "      <th>average_rating</th>\n",
       "      <th>isbn</th>\n",
       "      <th>isbn13</th>\n",
       "      <th>language_code</th>\n",
       "      <th>num_pages</th>\n",
       "      <th>ratings_count</th>\n",
       "      <th>text_reviews_count</th>\n",
       "      <th>publication_date</th>\n",
       "      <th>publisher</th>\n",
       "      <th>year</th>\n",
       "    </tr>\n",
       "  </thead>\n",
       "  <tbody>\n",
       "    <tr>\n",
       "      <th>0</th>\n",
       "      <td>1</td>\n",
       "      <td>Harry Potter and the Half-Blood Prince (Harry ...</td>\n",
       "      <td>J.K. Rowling/Mary GrandPré</td>\n",
       "      <td>4.57</td>\n",
       "      <td>0439785960</td>\n",
       "      <td>9780439785969</td>\n",
       "      <td>eng</td>\n",
       "      <td>652</td>\n",
       "      <td>2095690</td>\n",
       "      <td>27591</td>\n",
       "      <td>9/16/2006</td>\n",
       "      <td>Scholastic Inc.</td>\n",
       "      <td>2006</td>\n",
       "    </tr>\n",
       "    <tr>\n",
       "      <th>1</th>\n",
       "      <td>2</td>\n",
       "      <td>Harry Potter and the Order of the Phoenix (Har...</td>\n",
       "      <td>J.K. Rowling/Mary GrandPré</td>\n",
       "      <td>4.49</td>\n",
       "      <td>0439358078</td>\n",
       "      <td>9780439358071</td>\n",
       "      <td>eng</td>\n",
       "      <td>870</td>\n",
       "      <td>2153167</td>\n",
       "      <td>29221</td>\n",
       "      <td>9/1/2004</td>\n",
       "      <td>Scholastic Inc.</td>\n",
       "      <td>2004</td>\n",
       "    </tr>\n",
       "    <tr>\n",
       "      <th>2</th>\n",
       "      <td>4</td>\n",
       "      <td>Harry Potter and the Chamber of Secrets (Harry...</td>\n",
       "      <td>J.K. Rowling</td>\n",
       "      <td>4.42</td>\n",
       "      <td>0439554896</td>\n",
       "      <td>9780439554893</td>\n",
       "      <td>eng</td>\n",
       "      <td>352</td>\n",
       "      <td>6333</td>\n",
       "      <td>244</td>\n",
       "      <td>11/1/2003</td>\n",
       "      <td>Scholastic</td>\n",
       "      <td>2003</td>\n",
       "    </tr>\n",
       "    <tr>\n",
       "      <th>3</th>\n",
       "      <td>5</td>\n",
       "      <td>Harry Potter and the Prisoner of Azkaban (Harr...</td>\n",
       "      <td>J.K. Rowling/Mary GrandPré</td>\n",
       "      <td>4.56</td>\n",
       "      <td>043965548X</td>\n",
       "      <td>9780439655484</td>\n",
       "      <td>eng</td>\n",
       "      <td>435</td>\n",
       "      <td>2339585</td>\n",
       "      <td>36325</td>\n",
       "      <td>5/1/2004</td>\n",
       "      <td>Scholastic Inc.</td>\n",
       "      <td>2004</td>\n",
       "    </tr>\n",
       "    <tr>\n",
       "      <th>4</th>\n",
       "      <td>8</td>\n",
       "      <td>Harry Potter Boxed Set  Books 1-5 (Harry Potte...</td>\n",
       "      <td>J.K. Rowling/Mary GrandPré</td>\n",
       "      <td>4.78</td>\n",
       "      <td>0439682584</td>\n",
       "      <td>9780439682589</td>\n",
       "      <td>eng</td>\n",
       "      <td>2690</td>\n",
       "      <td>41428</td>\n",
       "      <td>164</td>\n",
       "      <td>9/13/2004</td>\n",
       "      <td>Scholastic</td>\n",
       "      <td>2004</td>\n",
       "    </tr>\n",
       "  </tbody>\n",
       "</table>\n",
       "</div>"
      ],
      "text/plain": [
       "   bookID                                              title  \\\n",
       "0       1  Harry Potter and the Half-Blood Prince (Harry ...   \n",
       "1       2  Harry Potter and the Order of the Phoenix (Har...   \n",
       "2       4  Harry Potter and the Chamber of Secrets (Harry...   \n",
       "3       5  Harry Potter and the Prisoner of Azkaban (Harr...   \n",
       "4       8  Harry Potter Boxed Set  Books 1-5 (Harry Potte...   \n",
       "\n",
       "                      authors  average_rating        isbn         isbn13  \\\n",
       "0  J.K. Rowling/Mary GrandPré            4.57  0439785960  9780439785969   \n",
       "1  J.K. Rowling/Mary GrandPré            4.49  0439358078  9780439358071   \n",
       "2                J.K. Rowling            4.42  0439554896  9780439554893   \n",
       "3  J.K. Rowling/Mary GrandPré            4.56  043965548X  9780439655484   \n",
       "4  J.K. Rowling/Mary GrandPré            4.78  0439682584  9780439682589   \n",
       "\n",
       "  language_code    num_pages  ratings_count  text_reviews_count  \\\n",
       "0           eng          652        2095690               27591   \n",
       "1           eng          870        2153167               29221   \n",
       "2           eng          352           6333                 244   \n",
       "3           eng          435        2339585               36325   \n",
       "4           eng         2690          41428                 164   \n",
       "\n",
       "  publication_date        publisher  year  \n",
       "0        9/16/2006  Scholastic Inc.  2006  \n",
       "1         9/1/2004  Scholastic Inc.  2004  \n",
       "2        11/1/2003       Scholastic  2003  \n",
       "3         5/1/2004  Scholastic Inc.  2004  \n",
       "4        9/13/2004       Scholastic  2004  "
      ]
     },
     "execution_count": 3,
     "metadata": {},
     "output_type": "execute_result"
    },
    {
     "name": "stdout",
     "output_type": "stream",
     "text": [
      "\n",
      "\n"
     ]
    },
    {
     "data": {
      "text/plain": [
       "(11123, 13)"
      ]
     },
     "execution_count": 3,
     "metadata": {},
     "output_type": "execute_result"
    },
    {
     "name": "stdout",
     "output_type": "stream",
     "text": [
      "\n",
      "\n",
      "<class 'pandas.core.frame.DataFrame'>\n",
      "RangeIndex: 11123 entries, 0 to 11122\n",
      "Data columns (total 13 columns):\n",
      " #   Column              Non-Null Count  Dtype  \n",
      "---  ------              --------------  -----  \n",
      " 0   bookID              11123 non-null  int64  \n",
      " 1   title               11123 non-null  object \n",
      " 2   authors             11123 non-null  object \n",
      " 3   average_rating      11123 non-null  float64\n",
      " 4   isbn                11123 non-null  object \n",
      " 5   isbn13              11123 non-null  int64  \n",
      " 6   language_code       11123 non-null  object \n",
      " 7     num_pages         11123 non-null  int64  \n",
      " 8   ratings_count       11123 non-null  int64  \n",
      " 9   text_reviews_count  11123 non-null  int64  \n",
      " 10  publication_date    11123 non-null  object \n",
      " 11  publisher           11123 non-null  object \n",
      " 12  year                11123 non-null  object \n",
      "dtypes: float64(1), int64(5), object(7)\n",
      "memory usage: 1.1+ MB\n",
      "\n",
      "\n"
     ]
    },
    {
     "data": {
      "text/plain": [
       "Index(['bookID', 'title', 'authors', 'average_rating', 'isbn', 'isbn13',\n",
       "       'language_code', '  num_pages', 'ratings_count', 'text_reviews_count',\n",
       "       'publication_date', 'publisher', 'year'],\n",
       "      dtype='object')"
      ]
     },
     "execution_count": 3,
     "metadata": {},
     "output_type": "execute_result"
    }
   ],
   "source": [
    "df.head()\n",
    "print('\\n')\n",
    "\n",
    "df.shape\n",
    "print('\\n')\n",
    "\n",
    "df.info()\n",
    "print('\\n')\n",
    "\n",
    "df.columns"
   ]
  },
  {
   "cell_type": "markdown",
   "id": "5e44cc5e",
   "metadata": {},
   "source": [
    "#### With your dataframe set up, time to start creating visualizations!\n",
    "\n",
    "\n",
    "- **<font color=green>Number of books published per year</font>**\n",
    "\n",
    "- **<font color=blue>Number of books published by each publisher (some publisher’s names are in non Latin scripts, such as Japanese and Russian so Matplotlib may not know how to display these names, that is okay!)</font>**\n",
    "\n",
    "- **<font color=red>Text ratings count versus reviews count</font>**"
   ]
  },
  {
   "cell_type": "markdown",
   "id": "7171690a",
   "metadata": {
    "scrolled": true
   },
   "source": [
    "**<font color=blue> Use your Python skills to create a visualization here. everyone in the group needs to make a visualization in Matplotlib and one in Seaborn.</font>**\n",
    "\n",
    "**1. Number of books published per year**\n"
   ]
  },
  {
   "cell_type": "markdown",
   "id": "906c7288",
   "metadata": {},
   "source": [
    "# NB plt.barh creates a horizantal bar chart\n"
   ]
  },
  {
   "cell_type": "code",
   "execution_count": 4,
   "id": "aae4a8a3",
   "metadata": {},
   "outputs": [
    {
     "data": {
      "text/html": [
       "<div>\n",
       "<style scoped>\n",
       "    .dataframe tbody tr th:only-of-type {\n",
       "        vertical-align: middle;\n",
       "    }\n",
       "\n",
       "    .dataframe tbody tr th {\n",
       "        vertical-align: top;\n",
       "    }\n",
       "\n",
       "    .dataframe thead th {\n",
       "        text-align: right;\n",
       "    }\n",
       "</style>\n",
       "<table border=\"1\" class=\"dataframe\">\n",
       "  <thead>\n",
       "    <tr style=\"text-align: right;\">\n",
       "      <th></th>\n",
       "      <th>year</th>\n",
       "      <th>title</th>\n",
       "    </tr>\n",
       "  </thead>\n",
       "  <tbody>\n",
       "    <tr>\n",
       "      <th>77</th>\n",
       "      <td>2011</td>\n",
       "      <td>24</td>\n",
       "    </tr>\n",
       "    <tr>\n",
       "      <th>78</th>\n",
       "      <td>2012</td>\n",
       "      <td>21</td>\n",
       "    </tr>\n",
       "    <tr>\n",
       "      <th>79</th>\n",
       "      <td>2013</td>\n",
       "      <td>15</td>\n",
       "    </tr>\n",
       "    <tr>\n",
       "      <th>80</th>\n",
       "      <td>2014</td>\n",
       "      <td>9</td>\n",
       "    </tr>\n",
       "    <tr>\n",
       "      <th>81</th>\n",
       "      <td>2015</td>\n",
       "      <td>10</td>\n",
       "    </tr>\n",
       "    <tr>\n",
       "      <th>82</th>\n",
       "      <td>2016</td>\n",
       "      <td>6</td>\n",
       "    </tr>\n",
       "    <tr>\n",
       "      <th>83</th>\n",
       "      <td>2017</td>\n",
       "      <td>7</td>\n",
       "    </tr>\n",
       "    <tr>\n",
       "      <th>84</th>\n",
       "      <td>2018</td>\n",
       "      <td>5</td>\n",
       "    </tr>\n",
       "    <tr>\n",
       "      <th>85</th>\n",
       "      <td>2019</td>\n",
       "      <td>6</td>\n",
       "    </tr>\n",
       "    <tr>\n",
       "      <th>86</th>\n",
       "      <td>2020</td>\n",
       "      <td>1</td>\n",
       "    </tr>\n",
       "  </tbody>\n",
       "</table>\n",
       "</div>"
      ],
      "text/plain": [
       "    year  title\n",
       "77  2011     24\n",
       "78  2012     21\n",
       "79  2013     15\n",
       "80  2014      9\n",
       "81  2015     10\n",
       "82  2016      6\n",
       "83  2017      7\n",
       "84  2018      5\n",
       "85  2019      6\n",
       "86  2020      1"
      ]
     },
     "execution_count": 4,
     "metadata": {},
     "output_type": "execute_result"
    },
    {
     "data": {
      "text/plain": [
       "<BarContainer object of 10 artists>"
      ]
     },
     "execution_count": 4,
     "metadata": {},
     "output_type": "execute_result"
    },
    {
     "data": {
      "text/plain": [
       "Text(0.5, 1.0, 'Total number of books published in the last 10 years')"
      ]
     },
     "execution_count": 4,
     "metadata": {},
     "output_type": "execute_result"
    },
    {
     "data": {
      "text/plain": [
       "Text(0.5, 0, 'Year')"
      ]
     },
     "execution_count": 4,
     "metadata": {},
     "output_type": "execute_result"
    },
    {
     "data": {
      "text/plain": [
       "Text(0, 0.5, 'Book Count')"
      ]
     },
     "execution_count": 4,
     "metadata": {},
     "output_type": "execute_result"
    },
    {
     "data": {
      "image/png": "[encoded data removed]",
      "text/plain": [
       "<Figure size 432x288 with 1 Axes>"
      ]
     },
     "metadata": {
      "needs_background": "light"
     },
     "output_type": "display_data"
    }
   ],
   "source": [
    "# total_books = df[df['bookID']==0]\n",
    "# print('The total number of books with 0 pages is', (page_zero['bookID'].count()))\n",
    "# page_zero.head(5)\n",
    "\n",
    "# plt.figure(1, figsize=(15,7))\n",
    "# sns.countplot(x='year', data=page_zero, palette='twilight')\n",
    "# plt.show()\n",
    "\n",
    "\n",
    "total_books=df.groupby('year')['title'].count().to_frame().reset_index().tail(10)\n",
    "\n",
    "\n",
    "total_books\n",
    "\n",
    "#Creating the bar chart \n",
    "plt.bar(total_books['year'],total_books['title']) \n",
    "\n",
    "#Adding the aesthetics\n",
    "plt.title('Total number of books published in the last 10 years')\n",
    "plt.xlabel('Year')\n",
    "plt.ylabel('Book Count') \n",
    "\n",
    "#Show the plot\n",
    "plt.show()\n"
   ]
  },
  {
   "cell_type": "code",
   "execution_count": 5,
   "id": "7c38721e",
   "metadata": {},
   "outputs": [],
   "source": [
    "# a = df['bookID'].groupby(df['year']).count().to_frame().reset_index().head(20)\n",
    "# a\n",
    "\n",
    "# a.plot(kind = 'bar',legend = False)\n",
    "# plt.title('Total number of books published per year-First 10 years',color = 'black')\n",
    "# plt.xticks(color = 'black')\n",
    "# plt.yticks(color = 'black')\n",
    "# plt.xlabel('Year',color = 'black')\n",
    "# plt.ylabel('Number of books published per year',color = 'black')\n",
    "\n",
    "# #plt.savefig('bar_vertical.png') #Saves a copy of the chart separately\n",
    "\n",
    "# plt.show()"
   ]
  },
  {
   "cell_type": "code",
   "execution_count": 6,
   "id": "7a15aed7",
   "metadata": {},
   "outputs": [
    {
     "data": {
      "text/plain": [
       "year\n",
       "1900    1\n",
       "1913    1\n",
       "1914    1\n",
       "1919    1\n",
       "1921    2\n",
       "       ..\n",
       "2016    6\n",
       "2017    7\n",
       "2018    5\n",
       "2019    6\n",
       "2020    1\n",
       "Name: bookID, Length: 87, dtype: int64"
      ]
     },
     "execution_count": 6,
     "metadata": {},
     "output_type": "execute_result"
    },
    {
     "data": {
      "text/html": [
       "<div>\n",
       "<style scoped>\n",
       "    .dataframe tbody tr th:only-of-type {\n",
       "        vertical-align: middle;\n",
       "    }\n",
       "\n",
       "    .dataframe tbody tr th {\n",
       "        vertical-align: top;\n",
       "    }\n",
       "\n",
       "    .dataframe thead th {\n",
       "        text-align: right;\n",
       "    }\n",
       "</style>\n",
       "<table border=\"1\" class=\"dataframe\">\n",
       "  <thead>\n",
       "    <tr style=\"text-align: right;\">\n",
       "      <th></th>\n",
       "      <th>year</th>\n",
       "      <th>title</th>\n",
       "    </tr>\n",
       "  </thead>\n",
       "  <tbody>\n",
       "    <tr>\n",
       "      <th>0</th>\n",
       "      <td>1900</td>\n",
       "      <td>1</td>\n",
       "    </tr>\n",
       "    <tr>\n",
       "      <th>1</th>\n",
       "      <td>1913</td>\n",
       "      <td>1</td>\n",
       "    </tr>\n",
       "    <tr>\n",
       "      <th>2</th>\n",
       "      <td>1914</td>\n",
       "      <td>1</td>\n",
       "    </tr>\n",
       "    <tr>\n",
       "      <th>3</th>\n",
       "      <td>1919</td>\n",
       "      <td>1</td>\n",
       "    </tr>\n",
       "    <tr>\n",
       "      <th>4</th>\n",
       "      <td>1921</td>\n",
       "      <td>2</td>\n",
       "    </tr>\n",
       "    <tr>\n",
       "      <th>5</th>\n",
       "      <td>1922</td>\n",
       "      <td>1</td>\n",
       "    </tr>\n",
       "    <tr>\n",
       "      <th>6</th>\n",
       "      <td>1923</td>\n",
       "      <td>1</td>\n",
       "    </tr>\n",
       "    <tr>\n",
       "      <th>7</th>\n",
       "      <td>1925</td>\n",
       "      <td>2</td>\n",
       "    </tr>\n",
       "    <tr>\n",
       "      <th>8</th>\n",
       "      <td>1928</td>\n",
       "      <td>1</td>\n",
       "    </tr>\n",
       "    <tr>\n",
       "      <th>9</th>\n",
       "      <td>1929</td>\n",
       "      <td>1</td>\n",
       "    </tr>\n",
       "  </tbody>\n",
       "</table>\n",
       "</div>"
      ],
      "text/plain": [
       "   year  title\n",
       "0  1900      1\n",
       "1  1913      1\n",
       "2  1914      1\n",
       "3  1919      1\n",
       "4  1921      2\n",
       "5  1922      1\n",
       "6  1923      1\n",
       "7  1925      2\n",
       "8  1928      1\n",
       "9  1929      1"
      ]
     },
     "execution_count": 6,
     "metadata": {},
     "output_type": "execute_result"
    }
   ],
   "source": [
    "a = df['bookID'].groupby(df['year']).count()\n",
    "a\n",
    "\n",
    "\n",
    "total_books=df.groupby('year')['title'].count().head(10).to_frame().reset_index()\n",
    "total_books"
   ]
  },
  {
   "cell_type": "code",
   "execution_count": 7,
   "id": "4390c88f",
   "metadata": {},
   "outputs": [
    {
     "data": {
      "text/plain": [
       "Index(['bookID', 'title', 'authors', 'average_rating', 'isbn', 'isbn13',\n",
       "       'language_code', '  num_pages', 'ratings_count', 'text_reviews_count',\n",
       "       'publication_date', 'publisher', 'year'],\n",
       "      dtype='object')"
      ]
     },
     "execution_count": 7,
     "metadata": {},
     "output_type": "execute_result"
    }
   ],
   "source": [
    "df.columns"
   ]
  },
  {
   "cell_type": "markdown",
   "id": "f12fbb71",
   "metadata": {},
   "source": [
    "**<font color=dark orange> Use your Python skills to create a visualization here. everyone in the group needs to make a visualization in Matplotlib and one in Seaborn.</font>**\n",
    "\n",
    "**2. Number of books published by each publisher (some publisher’s names are in non Latin scripts, such as Japanese and Russian so Matplotlib may not know how to display these names, that is okay!)**\n"
   ]
  },
  {
   "cell_type": "code",
   "execution_count": 52,
   "id": "ee5cf59c",
   "metadata": {},
   "outputs": [
    {
     "data": {
      "text/plain": [
       "Text(0.5, 0, 'Publishers')"
      ]
     },
     "execution_count": 52,
     "metadata": {},
     "output_type": "execute_result"
    },
    {
     "data": {
      "text/plain": [
       "Text(0, 0.5, 'Book Count')"
      ]
     },
     "execution_count": 52,
     "metadata": {},
     "output_type": "execute_result"
    },
    {
     "data": {
      "text/plain": [
       "Text(0.5, 1.0, 'Number of books published by top 10 publishers ')"
      ]
     },
     "execution_count": 52,
     "metadata": {},
     "output_type": "execute_result"
    },
    {
     "data": {
      "text/plain": [
       "publisher       \n",
       "Vintage             318\n",
       "Penguin Books       261\n",
       "Penguin Classics    184\n",
       "Mariner Books       150\n",
       "Ballantine Books    144\n",
       "HarperCollins       112\n",
       "Harper Perennial    112\n",
       "Pocket Books        111\n",
       "Bantam              110\n",
       "VIZ Media LLC        88\n",
       "dtype: int64"
      ]
     },
     "execution_count": 52,
     "metadata": {},
     "output_type": "execute_result"
    },
    {
     "data": {
      "image/png": "[encoded data removed]",
      "text/plain": [
       "<Figure size 1008x576 with 1 Axes>"
      ]
     },
     "metadata": {},
     "output_type": "display_data"
    }
   ],
   "source": [
    "# ax =df.groupby('language_code')['title'].count().reset_index().sort_values('title',ascending=False).set_index('language_code').plot.bar(figsize=(14,8),rot=0)\n",
    "\n",
    "#Seaborn\n",
    "pub =df.groupby('publisher')['title'].count().reset_index().sort_values('title',ascending=False).head(10).set_index('publisher').plot.bar(figsize=(14,8),rot=0)\n",
    "plt.xlabel(\"Publishers\")\n",
    "plt.ylabel(\"Book Count\")\n",
    "plt.title(\"Number of books published by top 10 publishers \", fontsize=20)\n",
    "\n",
    "df[['publisher']].value_counts().head(10)"
   ]
  },
  {
   "cell_type": "code",
   "execution_count": 9,
   "id": "a2c450fc",
   "metadata": {},
   "outputs": [
    {
     "data": {
      "text/plain": [
       "Index(['bookID', 'title', 'authors', 'average_rating', 'isbn', 'isbn13',\n",
       "       'language_code', '  num_pages', 'ratings_count', 'text_reviews_count',\n",
       "       'publication_date', 'publisher', 'year'],\n",
       "      dtype='object')"
      ]
     },
     "execution_count": 9,
     "metadata": {},
     "output_type": "execute_result"
    }
   ],
   "source": [
    "df.columns"
   ]
  },
  {
   "cell_type": "markdown",
   "id": "15fe8545",
   "metadata": {},
   "source": [
    "**<font color=gold> Use your Python skills to create a visualization here. everyone in the group needs to make a visualization in Matplotlib and one in Seaborn.</font>**\n",
    "\n",
    "**3. Text ratings count versus reviews count**\n",
    "\n",
    "Ratings_count Contains the number of ratings given for the book\n",
    "\n",
    "text_reviews_count Has the count of reviews left by users\n",
    "\n",
    "\n",
    "\n",
    "\n",
    "Scatter charts are primarily used for correlation and distribution analysis. Good for showing the relationship between two different variables where one correlates to another (or doesn’t).\n",
    "\n",
    "Scatter charts can also show the data distribution or clustering trends and help you spot anomalies or outliers.\n",
    "\n",
    "A good example of scatter charts would be a chart showing marketing spending vs. revenue."
   ]
  },
  {
   "cell_type": "code",
   "execution_count": 10,
   "id": "485f2e49",
   "metadata": {},
   "outputs": [
    {
     "data": {
      "text/plain": [
       "<AxesSubplot:xlabel='text_reviews_count', ylabel='ratings_count'>"
      ]
     },
     "execution_count": 10,
     "metadata": {},
     "output_type": "execute_result"
    },
    {
     "data": {
      "text/plain": [
       "Text(0.5, 1.0, 'Text ratings count versus reviews count')"
      ]
     },
     "execution_count": 10,
     "metadata": {},
     "output_type": "execute_result"
    },
    {
     "data": {
      "text/plain": [
       "Text(0.5, 0, 'The count of reviews left by users')"
      ]
     },
     "execution_count": 10,
     "metadata": {},
     "output_type": "execute_result"
    },
    {
     "data": {
      "text/plain": [
       "Text(0, 0.5, 'The number of ratings given for the book')"
      ]
     },
     "execution_count": 10,
     "metadata": {},
     "output_type": "execute_result"
    },
    {
     "data": {
      "image/png": "[encoded data removed]",
      "text/plain": [
       "<Figure size 432x288 with 1 Axes>"
      ]
     },
     "metadata": {
      "needs_background": "light"
     },
     "output_type": "display_data"
    }
   ],
   "source": [
    "#Creating scatter plot\n",
    "sns.scatterplot(data=df, x=\"text_reviews_count\", y=\"ratings_count\", color='red')\n",
    "\n",
    "#Adding the aesthetics\n",
    "plt.title('Text ratings count versus reviews count')\n",
    "plt.xlabel('The count of reviews left by users')\n",
    "plt.ylabel('The number of ratings given for the book') \n",
    "# Show the plot\n",
    "plt.show()\n"
   ]
  },
  {
   "cell_type": "markdown",
   "id": "c33bcbf7",
   "metadata": {},
   "source": [
    "Scatter plot shows a fairly increasing relationship between the two variables. As user review count increases (x axis), the rating count increases as well (y axis), with a few outliers."
   ]
  },
  {
   "cell_type": "markdown",
   "id": "3b9efa28",
   "metadata": {},
   "source": [
    "<br>\n",
    "\n",
    "<br>\n",
    "\n",
    "\n",
    "\n",
    "# Extra Codes Start Here... Not for studio\n",
    "\n",
    "\n",
    "\n",
    "<br>\n",
    "\n",
    "<br>\n"
   ]
  },
  {
   "cell_type": "markdown",
   "id": "fc5fb874",
   "metadata": {},
   "source": [
    "**Top 10 most rated books**"
   ]
  },
  {
   "cell_type": "code",
   "execution_count": 11,
   "id": "76695b59",
   "metadata": {},
   "outputs": [
    {
     "data": {
      "text/plain": [
       "(<Figure size 864x576 with 1 Axes>, <AxesSubplot:>)"
      ]
     },
     "execution_count": 11,
     "metadata": {},
     "output_type": "execute_result"
    },
    {
     "data": {
      "text/plain": [
       "Text(0.5, 0, 'Total ratings count ')"
      ]
     },
     "execution_count": 11,
     "metadata": {},
     "output_type": "execute_result"
    },
    {
     "data": {
      "text/plain": [
       "Text(0, 0.5, 'Books')"
      ]
     },
     "execution_count": 11,
     "metadata": {},
     "output_type": "execute_result"
    },
    {
     "data": {
      "text/plain": [
       "Text(0.5, 1.0, 'Top 10 most rated books')"
      ]
     },
     "execution_count": 11,
     "metadata": {},
     "output_type": "execute_result"
    },
    {
     "data": {
      "text/plain": [
       "Text(2095693, -0.25, '2095690')"
      ]
     },
     "execution_count": 11,
     "metadata": {},
     "output_type": "execute_result"
    },
    {
     "data": {
      "text/plain": [
       "Text(2111753, 0.75, '2111750')"
      ]
     },
     "execution_count": 11,
     "metadata": {},
     "output_type": "execute_result"
    },
    {
     "data": {
      "text/plain": [
       "Text(2128947, 1.75, '2128944')"
      ]
     },
     "execution_count": 11,
     "metadata": {},
     "output_type": "execute_result"
    },
    {
     "data": {
      "text/plain": [
       "Text(2153170, 2.75, '2153167')"
      ]
     },
     "execution_count": 11,
     "metadata": {},
     "output_type": "execute_result"
    },
    {
     "data": {
      "text/plain": [
       "Text(2293966, 3.75, '2293963')"
      ]
     },
     "execution_count": 11,
     "metadata": {},
     "output_type": "execute_result"
    },
    {
     "data": {
      "text/plain": [
       "Text(2339588, 4.75, '2339585')"
      ]
     },
     "execution_count": 11,
     "metadata": {},
     "output_type": "execute_result"
    },
    {
     "data": {
      "text/plain": [
       "Text(2418739, 5.75, '2418736')"
      ]
     },
     "execution_count": 11,
     "metadata": {},
     "output_type": "execute_result"
    },
    {
     "data": {
      "text/plain": [
       "Text(2457095, 6.75, '2457092')"
      ]
     },
     "execution_count": 11,
     "metadata": {},
     "output_type": "execute_result"
    },
    {
     "data": {
      "text/plain": [
       "Text(2530897, 7.75, '2530894')"
      ]
     },
     "execution_count": 11,
     "metadata": {},
     "output_type": "execute_result"
    },
    {
     "data": {
      "text/plain": [
       "Text(4597669, 8.75, '4597666')"
      ]
     },
     "execution_count": 11,
     "metadata": {},
     "output_type": "execute_result"
    },
    {
     "data": {
      "image/png": "[encoded data removed]",
      "text/plain": [
       "<Figure size 864x576 with 1 Axes>"
      ]
     },
     "metadata": {
      "needs_background": "light"
     },
     "output_type": "display_data"
    }
   ],
   "source": [
    "most_rated = df.sort_values('ratings_count',ascending=False).head(10).set_index('title')\n",
    "plt.subplots(figsize=(12,8))\n",
    "ax = most_rated['ratings_count'].sort_values().plot.barh(width=0.9,color=sns.color_palette('CMRmap',12))\n",
    "ax.set_xlabel(\"Total ratings count \", fontsize=15)\n",
    "ax.set_ylabel(\"Books\", fontsize=15)\n",
    "ax.set_title(\"Top 10 most rated books\",fontsize=20,color='black')\n",
    "totals = []\n",
    "for i in ax.patches:\n",
    "    totals.append(i.get_width())\n",
    "total = sum(totals)\n",
    "for i in ax.patches:\n",
    "    ax.text(i.get_width()+3, i.get_y()+.2,str(round(i.get_width())), fontsize=15,color='black')\n",
    "plt.show()"
   ]
  },
  {
   "cell_type": "markdown",
   "id": "04bcf5cc",
   "metadata": {},
   "source": [
    "**Top 10 books with most text reviews**"
   ]
  },
  {
   "cell_type": "code",
   "execution_count": 12,
   "id": "baf3245f",
   "metadata": {},
   "outputs": [
    {
     "data": {
      "text/plain": [
       "(<Figure size 864x576 with 1 Axes>, <AxesSubplot:>)"
      ]
     },
     "execution_count": 12,
     "metadata": {},
     "output_type": "execute_result"
    },
    {
     "data": {
      "text/plain": [
       "Text(0.5, 0, 'Total text reviews count ')"
      ]
     },
     "execution_count": 12,
     "metadata": {},
     "output_type": "execute_result"
    },
    {
     "data": {
      "text/plain": [
       "Text(0, 0.5, 'Books')"
      ]
     },
     "execution_count": 12,
     "metadata": {},
     "output_type": "execute_result"
    },
    {
     "data": {
      "text/plain": [
       "Text(0.5, 1.0, 'Top 10 books with most text reviews')"
      ]
     },
     "execution_count": 12,
     "metadata": {},
     "output_type": "execute_result"
    },
    {
     "data": {
      "text/plain": [
       "Text(36328, -0.25, '36325')"
      ]
     },
     "execution_count": 12,
     "metadata": {},
     "output_type": "execute_result"
    },
    {
     "data": {
      "text/plain": [
       "Text(43502, 0.75, '43499')"
      ]
     },
     "execution_count": 12,
     "metadata": {},
     "output_type": "execute_result"
    },
    {
     "data": {
      "text/plain": [
       "Text(46179, 1.75, '46176')"
      ]
     },
     "execution_count": 12,
     "metadata": {},
     "output_type": "execute_result"
    },
    {
     "data": {
      "text/plain": [
       "Text(47623, 2.75, '47620')"
      ]
     },
     "execution_count": 12,
     "metadata": {},
     "output_type": "execute_result"
    },
    {
     "data": {
      "text/plain": [
       "Text(47954, 3.75, '47951')"
      ]
     },
     "execution_count": 12,
     "metadata": {},
     "output_type": "execute_result"
    },
    {
     "data": {
      "text/plain": [
       "Text(52762, 4.75, '52759')"
      ]
     },
     "execution_count": 12,
     "metadata": {},
     "output_type": "execute_result"
    },
    {
     "data": {
      "text/plain": [
       "Text(55846, 5.75, '55843')"
      ]
     },
     "execution_count": 12,
     "metadata": {},
     "output_type": "execute_result"
    },
    {
     "data": {
      "text/plain": [
       "Text(56607, 6.75, '56604')"
      ]
     },
     "execution_count": 12,
     "metadata": {},
     "output_type": "execute_result"
    },
    {
     "data": {
      "text/plain": [
       "Text(86884, 7.75, '86881')"
      ]
     },
     "execution_count": 12,
     "metadata": {},
     "output_type": "execute_result"
    },
    {
     "data": {
      "text/plain": [
       "Text(94268, 8.75, '94265')"
      ]
     },
     "execution_count": 12,
     "metadata": {},
     "output_type": "execute_result"
    },
    {
     "data": {
      "image/png": "[encoded data removed]",
      "text/plain": [
       "<Figure size 864x576 with 1 Axes>"
      ]
     },
     "metadata": {
      "needs_background": "light"
     },
     "output_type": "display_data"
    }
   ],
   "source": [
    "most_text_reviews = df.sort_values('text_reviews_count',ascending=False).head(10).set_index('title')\n",
    "plt.subplots(figsize=(12,8))\n",
    "ax = most_text_reviews['text_reviews_count'].sort_values().plot.barh(width=0.9,color=sns.color_palette('gnuplot2',12))\n",
    "ax.set_xlabel(\"Total text reviews count \", fontsize=15)\n",
    "ax.set_ylabel(\"Books\", fontsize=15)\n",
    "ax.set_title(\"Top 10 books with most text reviews\",fontsize=20,color='black')\n",
    "totals = []\n",
    "for i in ax.patches:\n",
    "    totals.append(i.get_width())\n",
    "total = sum(totals)\n",
    "for i in ax.patches:\n",
    "    ax.text(i.get_width()+3, i.get_y()+.2,str(round(i.get_width())), fontsize=15,color='black')\n",
    "plt.show()"
   ]
  },
  {
   "cell_type": "markdown",
   "id": "be50056a",
   "metadata": {},
   "source": [
    "**Top 10 authors with most books**"
   ]
  },
  {
   "cell_type": "code",
   "execution_count": 13,
   "id": "14a26289",
   "metadata": {},
   "outputs": [
    {
     "data": {
      "text/plain": [
       "(<Figure size 864x576 with 1 Axes>, <AxesSubplot:>)"
      ]
     },
     "execution_count": 13,
     "metadata": {},
     "output_type": "execute_result"
    },
    {
     "data": {
      "text/plain": [
       "Text(0.5, 0, 'Total books ')"
      ]
     },
     "execution_count": 13,
     "metadata": {},
     "output_type": "execute_result"
    },
    {
     "data": {
      "text/plain": [
       "Text(0, 0.5, 'Authors')"
      ]
     },
     "execution_count": 13,
     "metadata": {},
     "output_type": "execute_result"
    },
    {
     "data": {
      "text/plain": [
       "Text(0.5, 1.0, 'Top 10 authors with most books')"
      ]
     },
     "execution_count": 13,
     "metadata": {},
     "output_type": "execute_result"
    },
    {
     "data": {
      "text/plain": [
       "Text(23.2, -0.25, '23')"
      ]
     },
     "execution_count": 13,
     "metadata": {},
     "output_type": "execute_result"
    },
    {
     "data": {
      "text/plain": [
       "Text(28.2, 0.75, '28')"
      ]
     },
     "execution_count": 13,
     "metadata": {},
     "output_type": "execute_result"
    },
    {
     "data": {
      "text/plain": [
       "Text(29.2, 1.75, '29')"
      ]
     },
     "execution_count": 13,
     "metadata": {},
     "output_type": "execute_result"
    },
    {
     "data": {
      "text/plain": [
       "Text(29.2, 2.75, '29')"
      ]
     },
     "execution_count": 13,
     "metadata": {},
     "output_type": "execute_result"
    },
    {
     "data": {
      "text/plain": [
       "Text(30.2, 3.75, '30')"
      ]
     },
     "execution_count": 13,
     "metadata": {},
     "output_type": "execute_result"
    },
    {
     "data": {
      "text/plain": [
       "Text(33.2, 4.75, '33')"
      ]
     },
     "execution_count": 13,
     "metadata": {},
     "output_type": "execute_result"
    },
    {
     "data": {
      "text/plain": [
       "Text(35.2, 5.75, '35')"
      ]
     },
     "execution_count": 13,
     "metadata": {},
     "output_type": "execute_result"
    },
    {
     "data": {
      "text/plain": [
       "Text(39.2, 6.75, '39')"
      ]
     },
     "execution_count": 13,
     "metadata": {},
     "output_type": "execute_result"
    },
    {
     "data": {
      "text/plain": [
       "Text(40.2, 7.75, '40')"
      ]
     },
     "execution_count": 13,
     "metadata": {},
     "output_type": "execute_result"
    },
    {
     "data": {
      "text/plain": [
       "Text(40.2, 8.75, '40')"
      ]
     },
     "execution_count": 13,
     "metadata": {},
     "output_type": "execute_result"
    },
    {
     "data": {
      "image/png": "[encoded data removed]",
      "text/plain": [
       "<Figure size 864x576 with 1 Axes>"
      ]
     },
     "metadata": {
      "needs_background": "light"
     },
     "output_type": "display_data"
    }
   ],
   "source": [
    "author_of_most_books = df.groupby('authors')['title'].count().reset_index().sort_values('title',ascending=False).head(10).set_index('authors')\n",
    "plt.subplots(figsize=(12,8))\n",
    "ax = author_of_most_books['title'].sort_values().plot.barh(width=0.9,color=sns.color_palette('gist_rainbow',12))\n",
    "ax.set_xlabel(\"Total books \", fontsize=15)\n",
    "ax.set_ylabel(\"Authors\", fontsize=15)\n",
    "ax.set_title(\"Top 10 authors with most books\",fontsize=20,color='black')\n",
    "totals = []\n",
    "for i in ax.patches:\n",
    "    totals.append(i.get_width())\n",
    "total = sum(totals)\n",
    "for i in ax.patches:\n",
    "    ax.text(i.get_width()+.2, i.get_y()+.2,str(round(i.get_width())), fontsize=15,color='black')\n",
    "plt.show()"
   ]
  },
  {
   "cell_type": "markdown",
   "id": "e7cd2789",
   "metadata": {},
   "source": [
    "**Top 10 books with highest average rating**"
   ]
  },
  {
   "cell_type": "code",
   "execution_count": 14,
   "id": "eef1fef5",
   "metadata": {},
   "outputs": [
    {
     "data": {
      "text/plain": [
       "(<Figure size 864x576 with 1 Axes>, <AxesSubplot:>)"
      ]
     },
     "execution_count": 14,
     "metadata": {},
     "output_type": "execute_result"
    },
    {
     "data": {
      "text/plain": [
       "Text(0.5, 0, 'Average rating ')"
      ]
     },
     "execution_count": 14,
     "metadata": {},
     "output_type": "execute_result"
    },
    {
     "data": {
      "text/plain": [
       "Text(0, 0.5, 'Books')"
      ]
     },
     "execution_count": 14,
     "metadata": {},
     "output_type": "execute_result"
    },
    {
     "data": {
      "text/plain": [
       "Text(0.5, 1.0, 'Top 10 books with highest average rating')"
      ]
     },
     "execution_count": 14,
     "metadata": {},
     "output_type": "execute_result"
    },
    {
     "data": {
      "text/plain": [
       "Text(4.72, -0.25, '5')"
      ]
     },
     "execution_count": 14,
     "metadata": {},
     "output_type": "execute_result"
    },
    {
     "data": {
      "text/plain": [
       "Text(4.74, 0.75, '5')"
      ]
     },
     "execution_count": 14,
     "metadata": {},
     "output_type": "execute_result"
    },
    {
     "data": {
      "text/plain": [
       "Text(4.75, 1.75, '5')"
      ]
     },
     "execution_count": 14,
     "metadata": {},
     "output_type": "execute_result"
    },
    {
     "data": {
      "text/plain": [
       "Text(4.75, 2.75, '5')"
      ]
     },
     "execution_count": 14,
     "metadata": {},
     "output_type": "execute_result"
    },
    {
     "data": {
      "text/plain": [
       "Text(4.76, 3.75, '5')"
      ]
     },
     "execution_count": 14,
     "metadata": {},
     "output_type": "execute_result"
    },
    {
     "data": {
      "text/plain": [
       "Text(4.77, 4.75, '5')"
      ]
     },
     "execution_count": 14,
     "metadata": {},
     "output_type": "execute_result"
    },
    {
     "data": {
      "text/plain": [
       "Text(4.78, 5.75, '5')"
      ]
     },
     "execution_count": 14,
     "metadata": {},
     "output_type": "execute_result"
    },
    {
     "data": {
      "text/plain": [
       "Text(4.81, 6.75, '5')"
      ]
     },
     "execution_count": 14,
     "metadata": {},
     "output_type": "execute_result"
    },
    {
     "data": {
      "text/plain": [
       "Text(4.83, 7.75, '5')"
      ]
     },
     "execution_count": 14,
     "metadata": {},
     "output_type": "execute_result"
    },
    {
     "data": {
      "text/plain": [
       "Text(4.87, 8.75, '5')"
      ]
     },
     "execution_count": 14,
     "metadata": {},
     "output_type": "execute_result"
    },
    {
     "data": {
      "image/png": "[encoded data removed]",
      "text/plain": [
       "<Figure size 864x576 with 1 Axes>"
      ]
     },
     "metadata": {
      "needs_background": "light"
     },
     "output_type": "display_data"
    }
   ],
   "source": [
    "high_average_rating =df[df['ratings_count'] > 1000]\n",
    "high_average_rating = high_average_rating.sort_values('average_rating',ascending=False).head(10).set_index('title')\n",
    "plt.subplots(figsize=(12,8))\n",
    "ax = high_average_rating['average_rating'].sort_values().plot.barh(width=0.9,color=sns.color_palette('Spectral',12))\n",
    "ax.set_xlabel(\"Average rating \", fontsize=15)\n",
    "ax.set_ylabel(\"Books\", fontsize=15)\n",
    "ax.set_title(\"Top 10 books with highest average rating\",fontsize=20,color='black')\n",
    "totals = []\n",
    "for i in ax.patches:\n",
    "    totals.append(i.get_width())\n",
    "total = sum(totals)\n",
    "for i in ax.patches:\n",
    "    ax.text(i.get_width()+.05, i.get_y()+.2,str(round(i.get_width())), fontsize=15,color='black')\n",
    "plt.show()"
   ]
  },
  {
   "cell_type": "markdown",
   "id": "2c31b41c",
   "metadata": {},
   "source": [
    "**Highest rated author**"
   ]
  },
  {
   "cell_type": "code",
   "execution_count": 15,
   "id": "879f9017",
   "metadata": {},
   "outputs": [
    {
     "data": {
      "text/plain": [
       "<Figure size 1080x720 with 0 Axes>"
      ]
     },
     "execution_count": 15,
     "metadata": {},
     "output_type": "execute_result"
    },
    {
     "name": "stderr",
     "output_type": "stream",
     "text": [
      "C:\\Users\\holly\\anaconda3\\envs\\Pandas\\lib\\site-packages\\seaborn\\_decorators.py:36: FutureWarning: Pass the following variables as keyword args: x, y. From version 0.12, the only valid positional argument will be `data`, and passing other arguments without an explicit keyword will result in an error or misinterpretation.\n",
      "  warnings.warn(\n"
     ]
    },
    {
     "data": {
      "text/plain": [
       "Text(0.5, 0, '# Books')"
      ]
     },
     "execution_count": 15,
     "metadata": {},
     "output_type": "execute_result"
    },
    {
     "data": {
      "text/plain": [
       "Text(0, 0.5, 'Authors')"
      ]
     },
     "execution_count": 15,
     "metadata": {},
     "output_type": "execute_result"
    },
    {
     "data": {
      "text/plain": [
       "Text(0.5, 1.0, 'Top 10 Most Rated Authors')"
      ]
     },
     "execution_count": 15,
     "metadata": {},
     "output_type": "execute_result"
    },
    {
     "data": {
      "text/plain": [
       "Text(12.2, -0.10000000000000003, '12')"
      ]
     },
     "execution_count": 15,
     "metadata": {},
     "output_type": "execute_result"
    },
    {
     "data": {
      "text/plain": [
       "Text(11.2, 0.8999999999999999, '11')"
      ]
     },
     "execution_count": 15,
     "metadata": {},
     "output_type": "execute_result"
    },
    {
     "data": {
      "text/plain": [
       "Text(9.2, 1.9000000000000001, '9')"
      ]
     },
     "execution_count": 15,
     "metadata": {},
     "output_type": "execute_result"
    },
    {
     "data": {
      "text/plain": [
       "Text(8.2, 2.9, '8')"
      ]
     },
     "execution_count": 15,
     "metadata": {},
     "output_type": "execute_result"
    },
    {
     "data": {
      "text/plain": [
       "Text(7.2, 3.9, '7')"
      ]
     },
     "execution_count": 15,
     "metadata": {},
     "output_type": "execute_result"
    },
    {
     "data": {
      "text/plain": [
       "Text(6.2, 4.8999999999999995, '6')"
      ]
     },
     "execution_count": 15,
     "metadata": {},
     "output_type": "execute_result"
    },
    {
     "data": {
      "text/plain": [
       "Text(5.2, 5.8999999999999995, '5')"
      ]
     },
     "execution_count": 15,
     "metadata": {},
     "output_type": "execute_result"
    },
    {
     "data": {
      "text/plain": [
       "Text(5.2, 6.8999999999999995, '5')"
      ]
     },
     "execution_count": 15,
     "metadata": {},
     "output_type": "execute_result"
    },
    {
     "data": {
      "text/plain": [
       "Text(5.2, 7.8999999999999995, '5')"
      ]
     },
     "execution_count": 15,
     "metadata": {},
     "output_type": "execute_result"
    },
    {
     "data": {
      "text/plain": [
       "Text(4.2, 8.9, '4')"
      ]
     },
     "execution_count": 15,
     "metadata": {},
     "output_type": "execute_result"
    },
    {
     "name": "stderr",
     "output_type": "stream",
     "text": [
      "C:\\Users\\holly\\anaconda3\\envs\\Pandas\\lib\\site-packages\\IPython\\core\\pylabtools.py:151: UserWarning: Glyph 33618 (\\N{CJK UNIFIED IDEOGRAPH-8352}) missing from current font.\n",
      "  fig.canvas.print_figure(bytes_io, **kw)\n",
      "C:\\Users\\holly\\anaconda3\\envs\\Pandas\\lib\\site-packages\\IPython\\core\\pylabtools.py:151: UserWarning: Glyph 24029 (\\N{CJK UNIFIED IDEOGRAPH-5DDD}) missing from current font.\n",
      "  fig.canvas.print_figure(bytes_io, **kw)\n",
      "C:\\Users\\holly\\anaconda3\\envs\\Pandas\\lib\\site-packages\\IPython\\core\\pylabtools.py:151: UserWarning: Glyph 24344 (\\N{CJK UNIFIED IDEOGRAPH-5F18}) missing from current font.\n",
      "  fig.canvas.print_figure(bytes_io, **kw)\n",
      "C:\\Users\\holly\\anaconda3\\envs\\Pandas\\lib\\site-packages\\IPython\\core\\pylabtools.py:151: UserWarning: Glyph 26041 (\\N{CJK UNIFIED IDEOGRAPH-65B9}) missing from current font.\n",
      "  fig.canvas.print_figure(bytes_io, **kw)\n",
      "C:\\Users\\holly\\anaconda3\\envs\\Pandas\\lib\\site-packages\\IPython\\core\\pylabtools.py:151: UserWarning: Glyph 37057 (\\N{CJK UNIFIED IDEOGRAPH-90C1}) missing from current font.\n",
      "  fig.canvas.print_figure(bytes_io, **kw)\n",
      "C:\\Users\\holly\\anaconda3\\envs\\Pandas\\lib\\site-packages\\IPython\\core\\pylabtools.py:151: UserWarning: Glyph 20161 (\\N{CJK UNIFIED IDEOGRAPH-4EC1}) missing from current font.\n",
      "  fig.canvas.print_figure(bytes_io, **kw)\n"
     ]
    },
    {
     "data": {
      "image/png": "[encoded data removed]",
      "text/plain": [
       "<Figure size 1080x720 with 1 Axes>"
      ]
     },
     "metadata": {},
     "output_type": "display_data"
    }
   ],
   "source": [
    "# highly_rated_author =df[df['average_rating']>4.4]\n",
    "# highly_rated_author = highly_rated_author.groupby('authors')['title'].count().reset_index().sort_values('title',ascending=False).head(10).set_index('authors')\n",
    "# plt.subplots(figsize=(12,8))\n",
    "# ax = highly_rated_author['title'].sort_values().plot.barh(width=0.9,color=sns.color_palette('rocket',12))\n",
    "# ax.set_xlabel(\"Total books \", fontsize=15)\n",
    "# ax.set_ylabel(\"Authors\", fontsize=15)\n",
    "# ax.set_title(\"Top 10 highly rated authors\",fontsize=20,color='black')\n",
    "# totals = []\n",
    "# for i in ax.patches:\n",
    "#     totals.append(i.get_width())\n",
    "# total = sum(totals)\n",
    "# for i in ax.patches:\n",
    "#     ax.text(i.get_width()+.2, i.get_y()+.2,str(round(i.get_width())), fontsize=15,color='black')\n",
    "# plt.show()\n",
    "\n",
    "\n",
    "### get df\n",
    "top_10_authors = df[df['average_rating']>=4.4]\n",
    "top_10_authors = top_10_authors.groupby('authors')['title'].count().reset_index().sort_values('title', ascending = False).head(10).set_index('authors')\n",
    "\n",
    "### set style\n",
    "sns.set_style(\"darkgrid\")\n",
    "\n",
    "### set figure size\n",
    "plt.figure(figsize=(15,10))\n",
    "\n",
    "### plot\n",
    "ax = sns.barplot(top_10_authors['title'], top_10_authors.index, palette='rocket')\n",
    "ax.set_xlabel(\"# Books\")\n",
    "ax.set_ylabel(\"Authors\")\n",
    "ax.set_title('Top 10 Most Rated Authors')\n",
    "for i in ax.patches:\n",
    "    ax.text(i.get_width()+.2, i.get_y()+0.3, str(round(i.get_width())), fontsize = 10, color = 'k')"
   ]
  },
  {
   "cell_type": "markdown",
   "id": "7418209e",
   "metadata": {},
   "source": [
    "**Which author wrote maximum books**"
   ]
  },
  {
   "cell_type": "code",
   "execution_count": 16,
   "id": "edec3335",
   "metadata": {
    "scrolled": true
   },
   "outputs": [
    {
     "data": {
      "text/plain": [
       "<Figure size 1080x504 with 0 Axes>"
      ]
     },
     "execution_count": 16,
     "metadata": {},
     "output_type": "execute_result"
    },
    {
     "data": {
      "text/plain": [
       "Text(0.5, 1.0, 'Which author wrote maximum books')"
      ]
     },
     "execution_count": 16,
     "metadata": {},
     "output_type": "execute_result"
    },
    {
     "data": {
      "text/plain": [
       "<AxesSubplot:title={'center':'Which author wrote maximum books'}, xlabel='authors', ylabel='count'>"
      ]
     },
     "execution_count": 16,
     "metadata": {},
     "output_type": "execute_result"
    },
    {
     "data": {
      "image/png": "[encoded data removed]",
      "text/plain": [
       "<Figure size 1080x504 with 1 Axes>"
      ]
     },
     "metadata": {},
     "output_type": "display_data"
    }
   ],
   "source": [
    "plt.figure(1, figsize=(15, 7))\n",
    "plt.title(\"Which author wrote maximum books\")\n",
    "sns.countplot(x = \"authors\", order=df['authors'].value_counts().index[0:10] ,data=df)"
   ]
  },
  {
   "cell_type": "markdown",
   "id": "1c13ca99",
   "metadata": {},
   "source": [
    "**Most Rated Books:**"
   ]
  },
  {
   "cell_type": "code",
   "execution_count": 17,
   "id": "e1fc84f2",
   "metadata": {},
   "outputs": [
    {
     "data": {
      "text/plain": [
       "<Figure size 1080x720 with 0 Axes>"
      ]
     },
     "execution_count": 17,
     "metadata": {},
     "output_type": "execute_result"
    },
    {
     "name": "stderr",
     "output_type": "stream",
     "text": [
      "C:\\Users\\holly\\anaconda3\\envs\\Pandas\\lib\\site-packages\\seaborn\\_decorators.py:36: FutureWarning: Pass the following variables as keyword args: x, y. From version 0.12, the only valid positional argument will be `data`, and passing other arguments without an explicit keyword will result in an error or misinterpretation.\n",
      "  warnings.warn(\n"
     ]
    },
    {
     "data": {
      "text/plain": [
       "<AxesSubplot:xlabel='ratings_count', ylabel='title'>"
      ]
     },
     "execution_count": 17,
     "metadata": {},
     "output_type": "execute_result"
    },
    {
     "data": {
      "image/png": "[encoded data removed]",
      "text/plain": [
       "<Figure size 1080x720 with 1 Axes>"
      ]
     },
     "metadata": {},
     "output_type": "display_data"
    }
   ],
   "source": [
    "# most_rated = df.sort_values('ratings_count', ascending = False).head(10).set_index('title')\n",
    "# plt.figure(figsize=(15,10))\n",
    "# sns.barplot(most_rated['ratings_count'], most_rated.index, palette='dark')\n",
    "\n",
    "\n",
    "most_rated = df.sort_values('ratings_count', ascending = False).head(10).set_index('title')\n",
    "plt.figure(figsize=(15,10))\n",
    "sns.barplot(most_rated['ratings_count'], most_rated.index, palette = 'rocket')"
   ]
  },
  {
   "cell_type": "markdown",
   "id": "2077bde2",
   "metadata": {},
   "source": [
    "**Rating Count vs Average Rating**"
   ]
  },
  {
   "cell_type": "code",
   "execution_count": 18,
   "id": "57f15656",
   "metadata": {},
   "outputs": [
    {
     "data": {
      "text/html": [
       "<div>\n",
       "<style scoped>\n",
       "    .dataframe tbody tr th:only-of-type {\n",
       "        vertical-align: middle;\n",
       "    }\n",
       "\n",
       "    .dataframe tbody tr th {\n",
       "        vertical-align: top;\n",
       "    }\n",
       "\n",
       "    .dataframe thead th {\n",
       "        text-align: right;\n",
       "    }\n",
       "</style>\n",
       "<table border=\"1\" class=\"dataframe\">\n",
       "  <thead>\n",
       "    <tr style=\"text-align: right;\">\n",
       "      <th></th>\n",
       "      <th>average_rating</th>\n",
       "      <th>ratings_count</th>\n",
       "    </tr>\n",
       "  </thead>\n",
       "  <tbody>\n",
       "    <tr>\n",
       "      <th>0</th>\n",
       "      <td>(0, 1]</td>\n",
       "      <td>3</td>\n",
       "    </tr>\n",
       "    <tr>\n",
       "      <th>1</th>\n",
       "      <td>(1, 2]</td>\n",
       "      <td>10</td>\n",
       "    </tr>\n",
       "    <tr>\n",
       "      <th>2</th>\n",
       "      <td>(2, 3]</td>\n",
       "      <td>65399</td>\n",
       "    </tr>\n",
       "    <tr>\n",
       "      <th>3</th>\n",
       "      <td>(3, 4]</td>\n",
       "      <td>95268575</td>\n",
       "    </tr>\n",
       "    <tr>\n",
       "      <th>4</th>\n",
       "      <td>(4, 5]</td>\n",
       "      <td>104244312</td>\n",
       "    </tr>\n",
       "  </tbody>\n",
       "</table>\n",
       "</div>"
      ],
      "text/plain": [
       "  average_rating  ratings_count\n",
       "0         (0, 1]              3\n",
       "1         (1, 2]             10\n",
       "2         (2, 3]          65399\n",
       "3         (3, 4]       95268575\n",
       "4         (4, 5]      104244312"
      ]
     },
     "execution_count": 18,
     "metadata": {},
     "output_type": "execute_result"
    }
   ],
   "source": [
    "req = df.groupby(pd.cut(df['average_rating'], [0,1,2,3,4,5]))\n",
    "req = req[['ratings_count']]\n",
    "req.sum().reset_index()"
   ]
  },
  {
   "cell_type": "markdown",
   "id": "ae709208",
   "metadata": {},
   "source": [
    "**Language Code countplot**"
   ]
  },
  {
   "cell_type": "code",
   "execution_count": 19,
   "id": "e322a9eb",
   "metadata": {},
   "outputs": [
    {
     "data": {
      "text/plain": [
       "<Figure size 1152x432 with 0 Axes>"
      ]
     },
     "execution_count": 19,
     "metadata": {},
     "output_type": "execute_result"
    },
    {
     "name": "stderr",
     "output_type": "stream",
     "text": [
      "C:\\Users\\holly\\anaconda3\\envs\\Pandas\\lib\\site-packages\\seaborn\\_decorators.py:36: FutureWarning: Pass the following variable as a keyword arg: x. From version 0.12, the only valid positional argument will be `data`, and passing other arguments without an explicit keyword will result in an error or misinterpretation.\n",
      "  warnings.warn(\n"
     ]
    },
    {
     "data": {
      "text/plain": [
       "<AxesSubplot:xlabel='language_code', ylabel='count'>"
      ]
     },
     "execution_count": 19,
     "metadata": {},
     "output_type": "execute_result"
    },
    {
     "data": {
      "image/png": "[encoded data removed]",
      "text/plain": [
       "<Figure size 1152x432 with 1 Axes>"
      ]
     },
     "metadata": {},
     "output_type": "display_data"
    }
   ],
   "source": [
    "plt.figure(figsize=(16,6))\n",
    "sns.countplot(df.language_code)"
   ]
  },
  {
   "cell_type": "markdown",
   "id": "ff9811b1",
   "metadata": {},
   "source": [
    "**Boxplot for num pages**"
   ]
  },
  {
   "cell_type": "code",
   "execution_count": 20,
   "id": "4c83d28d",
   "metadata": {},
   "outputs": [
    {
     "data": {
      "text/plain": [
       "<Figure size 1152x432 with 0 Axes>"
      ]
     },
     "execution_count": 20,
     "metadata": {},
     "output_type": "execute_result"
    },
    {
     "name": "stderr",
     "output_type": "stream",
     "text": [
      "C:\\Users\\holly\\anaconda3\\envs\\Pandas\\lib\\site-packages\\seaborn\\_decorators.py:36: FutureWarning: Pass the following variable as a keyword arg: x. From version 0.12, the only valid positional argument will be `data`, and passing other arguments without an explicit keyword will result in an error or misinterpretation.\n",
      "  warnings.warn(\n"
     ]
    },
    {
     "data": {
      "text/plain": [
       "<AxesSubplot:xlabel='  num_pages'>"
      ]
     },
     "execution_count": 20,
     "metadata": {},
     "output_type": "execute_result"
    },
    {
     "data": {
      "image/png": "[encoded data removed]",
      "text/plain": [
       "<Figure size 1152x432 with 1 Axes>"
      ]
     },
     "metadata": {},
     "output_type": "display_data"
    }
   ],
   "source": [
    "plt.figure(figsize=(16,6))\n",
    "sns.boxplot(df[\"  num_pages\"]) #two spaces befor num_pages"
   ]
  },
  {
   "cell_type": "markdown",
   "id": "d4e41f1d",
   "metadata": {},
   "source": [
    "**What is the distribution of books for all languages?**"
   ]
  },
  {
   "cell_type": "markdown",
   "id": "472ee4d1",
   "metadata": {},
   "source": [
    "**What is the distribution of books for all languages**"
   ]
  },
  {
   "cell_type": "code",
   "execution_count": 21,
   "id": "6f426061",
   "metadata": {},
   "outputs": [
    {
     "data": {
      "text/plain": [
       "<Figure size 1080x720 with 0 Axes>"
      ]
     },
     "execution_count": 21,
     "metadata": {},
     "output_type": "execute_result"
    },
    {
     "data": {
      "text/plain": [
       "Text(0.5, 1.0, 'Language Code')"
      ]
     },
     "execution_count": 21,
     "metadata": {},
     "output_type": "execute_result"
    },
    {
     "data": {
      "text/plain": [
       "(array([ 0,  1,  2,  3,  4,  5,  6,  7,  8,  9, 10, 11, 12, 13, 14, 15, 16,\n",
       "        17, 18, 19, 20, 21, 22, 23, 24, 25, 26]),\n",
       " [Text(0, 0, 'ale'),\n",
       "  Text(1, 0, 'ara'),\n",
       "  Text(2, 0, 'en-CA'),\n",
       "  Text(3, 0, 'en-GB'),\n",
       "  Text(4, 0, 'en-US'),\n",
       "  Text(5, 0, 'eng'),\n",
       "  Text(6, 0, 'enm'),\n",
       "  Text(7, 0, 'fre'),\n",
       "  Text(8, 0, 'ger'),\n",
       "  Text(9, 0, 'gla'),\n",
       "  Text(10, 0, 'glg'),\n",
       "  Text(11, 0, 'grc'),\n",
       "  Text(12, 0, 'ita'),\n",
       "  Text(13, 0, 'jpn'),\n",
       "  Text(14, 0, 'lat'),\n",
       "  Text(15, 0, 'msa'),\n",
       "  Text(16, 0, 'mul'),\n",
       "  Text(17, 0, 'nl'),\n",
       "  Text(18, 0, 'nor'),\n",
       "  Text(19, 0, 'por'),\n",
       "  Text(20, 0, 'rus'),\n",
       "  Text(21, 0, 'spa'),\n",
       "  Text(22, 0, 'srp'),\n",
       "  Text(23, 0, 'swe'),\n",
       "  Text(24, 0, 'tur'),\n",
       "  Text(25, 0, 'wel'),\n",
       "  Text(26, 0, 'zho')])"
      ]
     },
     "execution_count": 21,
     "metadata": {},
     "output_type": "execute_result"
    },
    {
     "data": {
      "text/plain": [
       "Text(-0.55, 101, '1')"
      ]
     },
     "execution_count": 21,
     "metadata": {},
     "output_type": "execute_result"
    },
    {
     "data": {
      "text/plain": [
       "Text(0.45, 101, '1')"
      ]
     },
     "execution_count": 21,
     "metadata": {},
     "output_type": "execute_result"
    },
    {
     "data": {
      "text/plain": [
       "Text(1.45, 107, '7')"
      ]
     },
     "execution_count": 21,
     "metadata": {},
     "output_type": "execute_result"
    },
    {
     "data": {
      "text/plain": [
       "Text(2.45, 314, '214')"
      ]
     },
     "execution_count": 21,
     "metadata": {},
     "output_type": "execute_result"
    },
    {
     "data": {
      "text/plain": [
       "Text(3.45, 1508, '1408')"
      ]
     },
     "execution_count": 21,
     "metadata": {},
     "output_type": "execute_result"
    },
    {
     "data": {
      "text/plain": [
       "Text(4.45, 9008, '8908')"
      ]
     },
     "execution_count": 21,
     "metadata": {},
     "output_type": "execute_result"
    },
    {
     "data": {
      "text/plain": [
       "Text(5.45, 103, '3')"
      ]
     },
     "execution_count": 21,
     "metadata": {},
     "output_type": "execute_result"
    },
    {
     "data": {
      "text/plain": [
       "Text(6.45, 244, '144')"
      ]
     },
     "execution_count": 21,
     "metadata": {},
     "output_type": "execute_result"
    },
    {
     "data": {
      "text/plain": [
       "Text(7.45, 199, '99')"
      ]
     },
     "execution_count": 21,
     "metadata": {},
     "output_type": "execute_result"
    },
    {
     "data": {
      "text/plain": [
       "Text(8.45, 101, '1')"
      ]
     },
     "execution_count": 21,
     "metadata": {},
     "output_type": "execute_result"
    },
    {
     "data": {
      "text/plain": [
       "Text(9.45, 101, '1')"
      ]
     },
     "execution_count": 21,
     "metadata": {},
     "output_type": "execute_result"
    },
    {
     "data": {
      "text/plain": [
       "Text(10.45, 111, '11')"
      ]
     },
     "execution_count": 21,
     "metadata": {},
     "output_type": "execute_result"
    },
    {
     "data": {
      "text/plain": [
       "Text(11.45, 105, '5')"
      ]
     },
     "execution_count": 21,
     "metadata": {},
     "output_type": "execute_result"
    },
    {
     "data": {
      "text/plain": [
       "Text(12.45, 146, '46')"
      ]
     },
     "execution_count": 21,
     "metadata": {},
     "output_type": "execute_result"
    },
    {
     "data": {
      "text/plain": [
       "Text(13.45, 103, '3')"
      ]
     },
     "execution_count": 21,
     "metadata": {},
     "output_type": "execute_result"
    },
    {
     "data": {
      "text/plain": [
       "Text(14.45, 101, '1')"
      ]
     },
     "execution_count": 21,
     "metadata": {},
     "output_type": "execute_result"
    },
    {
     "data": {
      "text/plain": [
       "Text(15.45, 119, '19')"
      ]
     },
     "execution_count": 21,
     "metadata": {},
     "output_type": "execute_result"
    },
    {
     "data": {
      "text/plain": [
       "Text(16.45, 101, '1')"
      ]
     },
     "execution_count": 21,
     "metadata": {},
     "output_type": "execute_result"
    },
    {
     "data": {
      "text/plain": [
       "Text(17.45, 101, '1')"
      ]
     },
     "execution_count": 21,
     "metadata": {},
     "output_type": "execute_result"
    },
    {
     "data": {
      "text/plain": [
       "Text(18.45, 110, '10')"
      ]
     },
     "execution_count": 21,
     "metadata": {},
     "output_type": "execute_result"
    },
    {
     "data": {
      "text/plain": [
       "Text(19.45, 102, '2')"
      ]
     },
     "execution_count": 21,
     "metadata": {},
     "output_type": "execute_result"
    },
    {
     "data": {
      "text/plain": [
       "Text(20.45, 318, '218')"
      ]
     },
     "execution_count": 21,
     "metadata": {},
     "output_type": "execute_result"
    },
    {
     "data": {
      "text/plain": [
       "Text(21.45, 101, '1')"
      ]
     },
     "execution_count": 21,
     "metadata": {},
     "output_type": "execute_result"
    },
    {
     "data": {
      "text/plain": [
       "Text(22.45, 102, '2')"
      ]
     },
     "execution_count": 21,
     "metadata": {},
     "output_type": "execute_result"
    },
    {
     "data": {
      "text/plain": [
       "Text(23.45, 101, '1')"
      ]
     },
     "execution_count": 21,
     "metadata": {},
     "output_type": "execute_result"
    },
    {
     "data": {
      "text/plain": [
       "Text(24.45, 101, '1')"
      ]
     },
     "execution_count": 21,
     "metadata": {},
     "output_type": "execute_result"
    },
    {
     "data": {
      "text/plain": [
       "Text(25.45, 114, '14')"
      ]
     },
     "execution_count": 21,
     "metadata": {},
     "output_type": "execute_result"
    },
    {
     "data": {
      "image/png": "[encoded data removed]",
      "text/plain": [
       "<Figure size 1080x720 with 1 Axes>"
      ]
     },
     "metadata": {},
     "output_type": "display_data"
    }
   ],
   "source": [
    "sns.set_context('paper')\n",
    "plt.figure(figsize=(15,10))\n",
    "ax = df.groupby('language_code')['title'].count().plot.bar()\n",
    "plt.title('Language Code')\n",
    "plt.xticks(fontsize = 15)\n",
    "for p in ax.patches:\n",
    "    ax.annotate(str(p.get_height()), (p.get_x()-0.3, p.get_height()+100))"
   ]
  },
  {
   "cell_type": "code",
   "execution_count": 22,
   "id": "4fac4b3d",
   "metadata": {},
   "outputs": [
    {
     "data": {
      "text/plain": [
       "Stephen King           40\n",
       "P.G. Wodehouse         40\n",
       "Rumiko Takahashi       39\n",
       "Orson Scott Card       35\n",
       "Agatha Christie        33\n",
       "Piers Anthony          30\n",
       "Mercedes Lackey        29\n",
       "Sandra Brown           29\n",
       "Dick Francis           28\n",
       "Laurell K. Hamilton    23\n",
       "Name: authors, dtype: int64"
      ]
     },
     "execution_count": 22,
     "metadata": {},
     "output_type": "execute_result"
    }
   ],
   "source": [
    "#Finding the top 10 authors with the most number of books\n",
    "df['authors'].value_counts().head(10)"
   ]
  },
  {
   "cell_type": "markdown",
   "id": "80366c1c",
   "metadata": {},
   "source": [
    "**Histogram of average ratings**"
   ]
  },
  {
   "cell_type": "code",
   "execution_count": 23,
   "id": "86f14d9e",
   "metadata": {},
   "outputs": [
    {
     "data": {
      "text/plain": [
       "<Figure size 720x720 with 0 Axes>"
      ]
     },
     "execution_count": 23,
     "metadata": {},
     "output_type": "execute_result"
    },
    {
     "data": {
      "text/plain": [
       "<seaborn.axisgrid.FacetGrid at 0x1d3d44a0910>"
      ]
     },
     "execution_count": 23,
     "metadata": {},
     "output_type": "execute_result"
    },
    {
     "data": {
      "text/plain": [
       "<Figure size 720x720 with 0 Axes>"
      ]
     },
     "metadata": {},
     "output_type": "display_data"
    },
    {
     "data": {
      "image/png": "[encoded data removed]",
      "text/plain": [
       "<Figure size 360x360 with 1 Axes>"
      ]
     },
     "metadata": {},
     "output_type": "display_data"
    }
   ],
   "source": [
    "plt.figure(figsize=(10,10))\n",
    "rating= df.average_rating.astype(float)\n",
    "sns.displot(rating, bins=20, kde=True)"
   ]
  },
  {
   "cell_type": "markdown",
   "id": "ec34b2db",
   "metadata": {},
   "source": [
    "From the given plot, we can infer that:\n",
    "\n",
    "Majority of the ratings lie near 3.7-4.3, approximately.\n",
    "\n",
    "Books having scores near 5 are extremely rare"
   ]
  },
  {
   "cell_type": "markdown",
   "id": "0cace692",
   "metadata": {},
   "source": [
    "**Books Available : Top 5 Languages**"
   ]
  },
  {
   "cell_type": "code",
   "execution_count": 24,
   "id": "57a7b64c",
   "metadata": {},
   "outputs": [
    {
     "data": {
      "text/plain": [
       "([<matplotlib.patches.Wedge at 0x1d3d4633af0>,\n",
       "  <matplotlib.patches.Wedge at 0x1d3d463e250>,\n",
       "  <matplotlib.patches.Wedge at 0x1d3d463e970>,\n",
       "  <matplotlib.patches.Wedge at 0x1d3d464d0d0>,\n",
       "  <matplotlib.patches.Wedge at 0x1d3d464d7f0>],\n",
       " [Text(-0.6227512738096063, -0.9667889381703294, 'eng'),\n",
       "  Text(0.7404029207774704, 0.8135130699037301, 'en-US'),\n",
       "  Text(0.292762865071964, 1.060325376870164, 'spa'),\n",
       "  Text(0.15871577446820556, 1.0884894592668124, 'en-GB'),\n",
       "  Text(0.04567436809853204, 1.0990513418848094, 'fre')],\n",
       " [Text(-0.35198985041412517, -0.546445921574534, '82%'),\n",
       "  Text(0.40385613860589287, 0.4437344017656709, '13%'),\n",
       "  Text(0.15968883549379853, 0.5783592964746348, '2%'),\n",
       "  Text(0.0865722406190212, 0.5937215232364431, '2%'),\n",
       "  Text(0.02491329169010838, 0.5994825501189868, '1%')])"
      ]
     },
     "execution_count": 24,
     "metadata": {},
     "output_type": "execute_result"
    },
    {
     "data": {
      "text/plain": [
       "(-1.130665244558552,\n",
       " 1.0791050657561065,\n",
       " -1.1494470721477341,\n",
       " 1.1023546224832255)"
      ]
     },
     "execution_count": 24,
     "metadata": {},
     "output_type": "execute_result"
    },
    {
     "data": {
      "text/plain": [
       "Text(0.5, 1.0, 'Top 5 Languages')"
      ]
     },
     "execution_count": 24,
     "metadata": {},
     "output_type": "execute_result"
    },
    {
     "data": {
      "image/png": "[encoded data removed]",
      "text/plain": [
       "<Figure size 1440x1440 with 1 Axes>"
      ]
     },
     "metadata": {},
     "output_type": "display_data"
    }
   ],
   "source": [
    "### get df\n",
    "lang_counts = pd.DataFrame(df.language_code.value_counts())\n",
    "lang_counts = lang_counts.reset_index()\n",
    "lang_counts = lang_counts.rename(columns={\"index\": \"lang_code\", \"language_code\": \"counts\"})\n",
    "top_5_lang = lang_counts.sort_values(['counts'], ascending=False).head(5)\n",
    "\n",
    "### set values\n",
    "labels = top_5_lang.lang_code\n",
    "counts = top_5_lang.counts\n",
    "explode = (.05, 0, 0, 0,0) ### I want the most prominent language to be a little set apart when i view the pie.\n",
    "\n",
    "### set figure and plot\n",
    "fig, ax = plt.subplots(figsize = (20,20))\n",
    "ax.pie(counts,explode=explode, labels=labels, autopct='%1.f%%', shadow=False, startangle=90)\n",
    "ax.axis('equal')\n",
    "ax.set_title('Top 5 Languages', fontsize=18)\n",
    "\n",
    "plt.show()"
   ]
  },
  {
   "cell_type": "code",
   "execution_count": 25,
   "id": "21047478",
   "metadata": {},
   "outputs": [
    {
     "data": {
      "text/plain": [
       "eng      8908\n",
       "en-US    1408\n",
       "spa       218\n",
       "en-GB     214\n",
       "fre       144\n",
       "Name: language_code, dtype: int64"
      ]
     },
     "execution_count": 25,
     "metadata": {},
     "output_type": "execute_result"
    }
   ],
   "source": [
    "df['language_code'].value_counts().head()"
   ]
  },
  {
   "cell_type": "code",
   "execution_count": 26,
   "id": "82215529",
   "metadata": {},
   "outputs": [],
   "source": [
    "df.rename(columns={'  num_pages':'num_pages'}, inplace=True)"
   ]
  },
  {
   "cell_type": "code",
   "execution_count": 27,
   "id": "8b983725",
   "metadata": {},
   "outputs": [
    {
     "data": {
      "text/plain": [
       "Index(['bookID', 'title', 'authors', 'average_rating', 'isbn', 'isbn13',\n",
       "       'language_code', 'num_pages', 'ratings_count', 'text_reviews_count',\n",
       "       'publication_date', 'publisher', 'year'],\n",
       "      dtype='object')"
      ]
     },
     "execution_count": 27,
     "metadata": {},
     "output_type": "execute_result"
    }
   ],
   "source": [
    "df.columns"
   ]
  },
  {
   "cell_type": "code",
   "execution_count": 28,
   "id": "0d0c62ce",
   "metadata": {},
   "outputs": [
    {
     "data": {
      "text/plain": [
       "bookID                11123\n",
       "title                 10348\n",
       "authors                6639\n",
       "average_rating          209\n",
       "isbn                  11123\n",
       "isbn13                11123\n",
       "language_code            27\n",
       "num_pages               997\n",
       "ratings_count          5294\n",
       "text_reviews_count     1822\n",
       "publication_date       3679\n",
       "publisher              2290\n",
       "year                     87\n",
       "dtype: int64"
      ]
     },
     "execution_count": 28,
     "metadata": {},
     "output_type": "execute_result"
    }
   ],
   "source": [
    "df.nunique()"
   ]
  },
  {
   "cell_type": "code",
   "execution_count": 29,
   "id": "40215d4b",
   "metadata": {},
   "outputs": [
    {
     "data": {
      "text/plain": [
       "<AxesSubplot:xlabel='ratings_count', ylabel='text_reviews_count'>"
      ]
     },
     "execution_count": 29,
     "metadata": {},
     "output_type": "execute_result"
    },
    {
     "data": {
      "text/plain": [
       "Text(0.5, 0, 'Ratings')"
      ]
     },
     "execution_count": 29,
     "metadata": {},
     "output_type": "execute_result"
    },
    {
     "data": {
      "text/plain": [
       "Text(0, 0.5, 'Reviews')"
      ]
     },
     "execution_count": 29,
     "metadata": {},
     "output_type": "execute_result"
    },
    {
     "data": {
      "text/plain": [
       "Text(0.5, 1.0, 'Scatter')"
      ]
     },
     "execution_count": 29,
     "metadata": {},
     "output_type": "execute_result"
    },
    {
     "data": {
      "image/png": "[encoded data removed]",
      "text/plain": [
       "<Figure size 432x288 with 1 Axes>"
      ]
     },
     "metadata": {},
     "output_type": "display_data"
    }
   ],
   "source": [
    "df.plot(kind='scatter', x='ratings_count',y='text_reviews_count', alpha=.7, color='b')\n",
    "plt.xlabel('Ratings')\n",
    "plt.ylabel('Reviews')\n",
    "plt.title('Scatter')\n",
    "plt.show()\n"
   ]
  },
  {
   "cell_type": "code",
   "execution_count": 30,
   "id": "95240e92",
   "metadata": {},
   "outputs": [
    {
     "data": {
      "image/png": "[encoded data removed]",
      "text/plain": [
       "<Figure size 576x576 with 1 Axes>"
      ]
     },
     "metadata": {},
     "output_type": "display_data"
    }
   ],
   "source": [
    "df.average_rating.plot(kind='hist', bins=100, figsize=(8,8))\n",
    "plt.xlabel('Average Rating')\n",
    "plt.title('Average Rating Frequency');"
   ]
  },
  {
   "cell_type": "markdown",
   "id": "e116339c",
   "metadata": {},
   "source": [
    "### Filtering"
   ]
  },
  {
   "cell_type": "code",
   "execution_count": 31,
   "id": "97532948",
   "metadata": {},
   "outputs": [
    {
     "data": {
      "text/html": [
       "<div>\n",
       "<style scoped>\n",
       "    .dataframe tbody tr th:only-of-type {\n",
       "        vertical-align: middle;\n",
       "    }\n",
       "\n",
       "    .dataframe tbody tr th {\n",
       "        vertical-align: top;\n",
       "    }\n",
       "\n",
       "    .dataframe thead th {\n",
       "        text-align: right;\n",
       "    }\n",
       "</style>\n",
       "<table border=\"1\" class=\"dataframe\">\n",
       "  <thead>\n",
       "    <tr style=\"text-align: right;\">\n",
       "      <th></th>\n",
       "      <th>bookID</th>\n",
       "      <th>title</th>\n",
       "      <th>authors</th>\n",
       "      <th>average_rating</th>\n",
       "      <th>isbn</th>\n",
       "      <th>isbn13</th>\n",
       "      <th>language_code</th>\n",
       "      <th>num_pages</th>\n",
       "      <th>ratings_count</th>\n",
       "      <th>text_reviews_count</th>\n",
       "      <th>publication_date</th>\n",
       "      <th>publisher</th>\n",
       "      <th>year</th>\n",
       "    </tr>\n",
       "  </thead>\n",
       "  <tbody>\n",
       "    <tr>\n",
       "      <th>4</th>\n",
       "      <td>8</td>\n",
       "      <td>Harry Potter Boxed Set  Books 1-5 (Harry Potte...</td>\n",
       "      <td>J.K. Rowling/Mary GrandPré</td>\n",
       "      <td>4.78</td>\n",
       "      <td>0439682584</td>\n",
       "      <td>9780439682589</td>\n",
       "      <td>eng</td>\n",
       "      <td>2690</td>\n",
       "      <td>41428</td>\n",
       "      <td>164</td>\n",
       "      <td>9/13/2004</td>\n",
       "      <td>Scholastic</td>\n",
       "      <td>2004</td>\n",
       "    </tr>\n",
       "    <tr>\n",
       "      <th>6</th>\n",
       "      <td>10</td>\n",
       "      <td>Harry Potter Collection (Harry Potter  #1-6)</td>\n",
       "      <td>J.K. Rowling</td>\n",
       "      <td>4.73</td>\n",
       "      <td>0439827604</td>\n",
       "      <td>9780439827607</td>\n",
       "      <td>eng</td>\n",
       "      <td>3342</td>\n",
       "      <td>28242</td>\n",
       "      <td>808</td>\n",
       "      <td>9/12/2005</td>\n",
       "      <td>Scholastic</td>\n",
       "      <td>2005</td>\n",
       "    </tr>\n",
       "    <tr>\n",
       "      <th>1053</th>\n",
       "      <td>3579</td>\n",
       "      <td>The Complete Anne of Green Gables Boxed Set (A...</td>\n",
       "      <td>L.M. Montgomery</td>\n",
       "      <td>4.43</td>\n",
       "      <td>0553609416</td>\n",
       "      <td>76783609419</td>\n",
       "      <td>eng</td>\n",
       "      <td>2088</td>\n",
       "      <td>98611</td>\n",
       "      <td>1447</td>\n",
       "      <td>10/6/1998</td>\n",
       "      <td>Starfire</td>\n",
       "      <td>1998</td>\n",
       "    </tr>\n",
       "    <tr>\n",
       "      <th>5614</th>\n",
       "      <td>20749</td>\n",
       "      <td>Study Bible: NIV</td>\n",
       "      <td>Anonymous</td>\n",
       "      <td>4.70</td>\n",
       "      <td>0310929555</td>\n",
       "      <td>9780310929550</td>\n",
       "      <td>eng</td>\n",
       "      <td>2198</td>\n",
       "      <td>4166</td>\n",
       "      <td>186</td>\n",
       "      <td>10/1/2002</td>\n",
       "      <td>Zondervan Publishing House</td>\n",
       "      <td>2002</td>\n",
       "    </tr>\n",
       "    <tr>\n",
       "      <th>6257</th>\n",
       "      <td>23589</td>\n",
       "      <td>The J.R.R. Tolkien Companion and Guide</td>\n",
       "      <td>Christina Scull/Wayne G. Hammond</td>\n",
       "      <td>4.64</td>\n",
       "      <td>0618391134</td>\n",
       "      <td>9780618391134</td>\n",
       "      <td>eng</td>\n",
       "      <td>2264</td>\n",
       "      <td>45</td>\n",
       "      <td>0</td>\n",
       "      <td>11/2/2006</td>\n",
       "      <td>Houghton Mifflin Harcourt</td>\n",
       "      <td>2006</td>\n",
       "    </tr>\n",
       "    <tr>\n",
       "      <th>6497</th>\n",
       "      <td>24520</td>\n",
       "      <td>The Complete Aubrey/Maturin Novels (5 Volumes)</td>\n",
       "      <td>Patrick O'Brian</td>\n",
       "      <td>4.70</td>\n",
       "      <td>039306011X</td>\n",
       "      <td>9780393060119</td>\n",
       "      <td>eng</td>\n",
       "      <td>6576</td>\n",
       "      <td>1338</td>\n",
       "      <td>81</td>\n",
       "      <td>10/17/2004</td>\n",
       "      <td>W. W. Norton  Company</td>\n",
       "      <td>2004</td>\n",
       "    </tr>\n",
       "    <tr>\n",
       "      <th>6802</th>\n",
       "      <td>25587</td>\n",
       "      <td>The Second World War</td>\n",
       "      <td>Winston S. Churchill/John Keegan</td>\n",
       "      <td>4.45</td>\n",
       "      <td>039541685X</td>\n",
       "      <td>9780395416853</td>\n",
       "      <td>eng</td>\n",
       "      <td>4736</td>\n",
       "      <td>1493</td>\n",
       "      <td>99</td>\n",
       "      <td>5/9/1986</td>\n",
       "      <td>Mariner Books</td>\n",
       "      <td>1986</td>\n",
       "    </tr>\n",
       "    <tr>\n",
       "      <th>6822</th>\n",
       "      <td>25709</td>\n",
       "      <td>Summa Theologica  5 Vols</td>\n",
       "      <td>Thomas Aquinas</td>\n",
       "      <td>4.12</td>\n",
       "      <td>0870610635</td>\n",
       "      <td>9780870610639</td>\n",
       "      <td>eng</td>\n",
       "      <td>3020</td>\n",
       "      <td>2734</td>\n",
       "      <td>84</td>\n",
       "      <td>1/1/1981</td>\n",
       "      <td>Christian Classics</td>\n",
       "      <td>1981</td>\n",
       "    </tr>\n",
       "    <tr>\n",
       "      <th>7862</th>\n",
       "      <td>30258</td>\n",
       "      <td>Harrison's Principles of Internal Medicine</td>\n",
       "      <td>Dennis L. Kasper/Dan L. Longo/Stephen L. Hause...</td>\n",
       "      <td>4.35</td>\n",
       "      <td>0071391401</td>\n",
       "      <td>9780071391405</td>\n",
       "      <td>eng</td>\n",
       "      <td>2751</td>\n",
       "      <td>23</td>\n",
       "      <td>4</td>\n",
       "      <td>7/27/2004</td>\n",
       "      <td>McGraw-Hill Medical Publishing</td>\n",
       "      <td>2004</td>\n",
       "    </tr>\n",
       "    <tr>\n",
       "      <th>9929</th>\n",
       "      <td>40012</td>\n",
       "      <td>Goodman &amp; Gilman's the Pharmacological Basis o...</td>\n",
       "      <td>Laurence L. Brunton/John S. Lazo/Keith  L. Parker</td>\n",
       "      <td>4.29</td>\n",
       "      <td>0071422803</td>\n",
       "      <td>9780071422802</td>\n",
       "      <td>eng</td>\n",
       "      <td>2021</td>\n",
       "      <td>185</td>\n",
       "      <td>8</td>\n",
       "      <td>9/21/2005</td>\n",
       "      <td>McGraw-Hill Professional Publishing</td>\n",
       "      <td>2005</td>\n",
       "    </tr>\n",
       "    <tr>\n",
       "      <th>10749</th>\n",
       "      <td>43888</td>\n",
       "      <td>The Sword of Truth  Boxed Set I: Wizard's Firs...</td>\n",
       "      <td>Terry Goodkind</td>\n",
       "      <td>4.29</td>\n",
       "      <td>0812575601</td>\n",
       "      <td>9780812575606</td>\n",
       "      <td>en-US</td>\n",
       "      <td>2480</td>\n",
       "      <td>4196</td>\n",
       "      <td>81</td>\n",
       "      <td>11/15/1998</td>\n",
       "      <td>Tor Books</td>\n",
       "      <td>1998</td>\n",
       "    </tr>\n",
       "    <tr>\n",
       "      <th>10906</th>\n",
       "      <td>44613</td>\n",
       "      <td>Remembrance of Things Past (Boxed Set)</td>\n",
       "      <td>Marcel Proust/C.K. Scott Moncrieff/Frederick A...</td>\n",
       "      <td>4.34</td>\n",
       "      <td>0701125594</td>\n",
       "      <td>9780701125592</td>\n",
       "      <td>eng</td>\n",
       "      <td>3400</td>\n",
       "      <td>6</td>\n",
       "      <td>1</td>\n",
       "      <td>3/5/1981</td>\n",
       "      <td>Chatto &amp; Windus</td>\n",
       "      <td>1981</td>\n",
       "    </tr>\n",
       "  </tbody>\n",
       "</table>\n",
       "</div>"
      ],
      "text/plain": [
       "       bookID                                              title  \\\n",
       "4           8  Harry Potter Boxed Set  Books 1-5 (Harry Potte...   \n",
       "6          10       Harry Potter Collection (Harry Potter  #1-6)   \n",
       "1053     3579  The Complete Anne of Green Gables Boxed Set (A...   \n",
       "5614    20749                                   Study Bible: NIV   \n",
       "6257    23589             The J.R.R. Tolkien Companion and Guide   \n",
       "6497    24520     The Complete Aubrey/Maturin Novels (5 Volumes)   \n",
       "6802    25587                               The Second World War   \n",
       "6822    25709                           Summa Theologica  5 Vols   \n",
       "7862    30258         Harrison's Principles of Internal Medicine   \n",
       "9929    40012  Goodman & Gilman's the Pharmacological Basis o...   \n",
       "10749   43888  The Sword of Truth  Boxed Set I: Wizard's Firs...   \n",
       "10906   44613             Remembrance of Things Past (Boxed Set)   \n",
       "\n",
       "                                                 authors  average_rating  \\\n",
       "4                             J.K. Rowling/Mary GrandPré            4.78   \n",
       "6                                           J.K. Rowling            4.73   \n",
       "1053                                     L.M. Montgomery            4.43   \n",
       "5614                                           Anonymous            4.70   \n",
       "6257                    Christina Scull/Wayne G. Hammond            4.64   \n",
       "6497                                     Patrick O'Brian            4.70   \n",
       "6802                    Winston S. Churchill/John Keegan            4.45   \n",
       "6822                                      Thomas Aquinas            4.12   \n",
       "7862   Dennis L. Kasper/Dan L. Longo/Stephen L. Hause...            4.35   \n",
       "9929   Laurence L. Brunton/John S. Lazo/Keith  L. Parker            4.29   \n",
       "10749                                     Terry Goodkind            4.29   \n",
       "10906  Marcel Proust/C.K. Scott Moncrieff/Frederick A...            4.34   \n",
       "\n",
       "             isbn         isbn13 language_code  num_pages  ratings_count  \\\n",
       "4      0439682584  9780439682589           eng       2690          41428   \n",
       "6      0439827604  9780439827607           eng       3342          28242   \n",
       "1053   0553609416    76783609419           eng       2088          98611   \n",
       "5614   0310929555  9780310929550           eng       2198           4166   \n",
       "6257   0618391134  9780618391134           eng       2264             45   \n",
       "6497   039306011X  9780393060119           eng       6576           1338   \n",
       "6802   039541685X  9780395416853           eng       4736           1493   \n",
       "6822   0870610635  9780870610639           eng       3020           2734   \n",
       "7862   0071391401  9780071391405           eng       2751             23   \n",
       "9929   0071422803  9780071422802           eng       2021            185   \n",
       "10749  0812575601  9780812575606         en-US       2480           4196   \n",
       "10906  0701125594  9780701125592           eng       3400              6   \n",
       "\n",
       "       text_reviews_count publication_date  \\\n",
       "4                     164        9/13/2004   \n",
       "6                     808        9/12/2005   \n",
       "1053                 1447        10/6/1998   \n",
       "5614                  186        10/1/2002   \n",
       "6257                    0        11/2/2006   \n",
       "6497                   81       10/17/2004   \n",
       "6802                   99         5/9/1986   \n",
       "6822                   84         1/1/1981   \n",
       "7862                    4        7/27/2004   \n",
       "9929                    8        9/21/2005   \n",
       "10749                  81       11/15/1998   \n",
       "10906                   1         3/5/1981   \n",
       "\n",
       "                                 publisher  year  \n",
       "4                               Scholastic  2004  \n",
       "6                               Scholastic  2005  \n",
       "1053                              Starfire  1998  \n",
       "5614            Zondervan Publishing House  2002  \n",
       "6257             Houghton Mifflin Harcourt  2006  \n",
       "6497                 W. W. Norton  Company  2004  \n",
       "6802                         Mariner Books  1986  \n",
       "6822                    Christian Classics  1981  \n",
       "7862        McGraw-Hill Medical Publishing  2004  \n",
       "9929   McGraw-Hill Professional Publishing  2005  \n",
       "10749                            Tor Books  1998  \n",
       "10906                      Chatto & Windus  1981  "
      ]
     },
     "execution_count": 31,
     "metadata": {},
     "output_type": "execute_result"
    }
   ],
   "source": [
    "#Books with num_pages greater than 2000\n",
    "\n",
    "x = df['num_pages']>2000\n",
    "df[x]"
   ]
  },
  {
   "cell_type": "code",
   "execution_count": 32,
   "id": "5394c3cb",
   "metadata": {},
   "outputs": [
    {
     "data": {
      "text/html": [
       "<div>\n",
       "<style scoped>\n",
       "    .dataframe tbody tr th:only-of-type {\n",
       "        vertical-align: middle;\n",
       "    }\n",
       "\n",
       "    .dataframe tbody tr th {\n",
       "        vertical-align: top;\n",
       "    }\n",
       "\n",
       "    .dataframe thead th {\n",
       "        text-align: right;\n",
       "    }\n",
       "</style>\n",
       "<table border=\"1\" class=\"dataframe\">\n",
       "  <thead>\n",
       "    <tr style=\"text-align: right;\">\n",
       "      <th></th>\n",
       "      <th>bookID</th>\n",
       "      <th>title</th>\n",
       "      <th>authors</th>\n",
       "      <th>average_rating</th>\n",
       "      <th>isbn</th>\n",
       "      <th>isbn13</th>\n",
       "      <th>language_code</th>\n",
       "      <th>num_pages</th>\n",
       "      <th>ratings_count</th>\n",
       "      <th>text_reviews_count</th>\n",
       "      <th>publication_date</th>\n",
       "      <th>publisher</th>\n",
       "      <th>year</th>\n",
       "    </tr>\n",
       "  </thead>\n",
       "  <tbody>\n",
       "    <tr>\n",
       "      <th>0</th>\n",
       "      <td>1</td>\n",
       "      <td>Harry Potter and the Half-Blood Prince (Harry ...</td>\n",
       "      <td>J.K. Rowling/Mary GrandPré</td>\n",
       "      <td>4.57</td>\n",
       "      <td>0439785960</td>\n",
       "      <td>9780439785969</td>\n",
       "      <td>eng</td>\n",
       "      <td>652</td>\n",
       "      <td>2095690</td>\n",
       "      <td>27591</td>\n",
       "      <td>9/16/2006</td>\n",
       "      <td>Scholastic Inc.</td>\n",
       "      <td>2006</td>\n",
       "    </tr>\n",
       "    <tr>\n",
       "      <th>3</th>\n",
       "      <td>5</td>\n",
       "      <td>Harry Potter and the Prisoner of Azkaban (Harr...</td>\n",
       "      <td>J.K. Rowling/Mary GrandPré</td>\n",
       "      <td>4.56</td>\n",
       "      <td>043965548X</td>\n",
       "      <td>9780439655484</td>\n",
       "      <td>eng</td>\n",
       "      <td>435</td>\n",
       "      <td>2339585</td>\n",
       "      <td>36325</td>\n",
       "      <td>5/1/2004</td>\n",
       "      <td>Scholastic Inc.</td>\n",
       "      <td>2004</td>\n",
       "    </tr>\n",
       "    <tr>\n",
       "      <th>4</th>\n",
       "      <td>8</td>\n",
       "      <td>Harry Potter Boxed Set  Books 1-5 (Harry Potte...</td>\n",
       "      <td>J.K. Rowling/Mary GrandPré</td>\n",
       "      <td>4.78</td>\n",
       "      <td>0439682584</td>\n",
       "      <td>9780439682589</td>\n",
       "      <td>eng</td>\n",
       "      <td>2690</td>\n",
       "      <td>41428</td>\n",
       "      <td>164</td>\n",
       "      <td>9/13/2004</td>\n",
       "      <td>Scholastic</td>\n",
       "      <td>2004</td>\n",
       "    </tr>\n",
       "    <tr>\n",
       "      <th>6</th>\n",
       "      <td>10</td>\n",
       "      <td>Harry Potter Collection (Harry Potter  #1-6)</td>\n",
       "      <td>J.K. Rowling</td>\n",
       "      <td>4.73</td>\n",
       "      <td>0439827604</td>\n",
       "      <td>9780439827607</td>\n",
       "      <td>eng</td>\n",
       "      <td>3342</td>\n",
       "      <td>28242</td>\n",
       "      <td>808</td>\n",
       "      <td>9/12/2005</td>\n",
       "      <td>Scholastic</td>\n",
       "      <td>2005</td>\n",
       "    </tr>\n",
       "    <tr>\n",
       "      <th>21</th>\n",
       "      <td>30</td>\n",
       "      <td>J.R.R. Tolkien 4-Book Boxed Set: The Hobbit an...</td>\n",
       "      <td>J.R.R. Tolkien</td>\n",
       "      <td>4.59</td>\n",
       "      <td>0345538374</td>\n",
       "      <td>9780345538376</td>\n",
       "      <td>eng</td>\n",
       "      <td>1728</td>\n",
       "      <td>101233</td>\n",
       "      <td>1550</td>\n",
       "      <td>9/25/2012</td>\n",
       "      <td>Ballantine Books</td>\n",
       "      <td>2012</td>\n",
       "    </tr>\n",
       "    <tr>\n",
       "      <th>25</th>\n",
       "      <td>36</td>\n",
       "      <td>The Lord of the Rings: Weapons and Warfare</td>\n",
       "      <td>Chris   Smith/Christopher  Lee/Richard Taylor</td>\n",
       "      <td>4.53</td>\n",
       "      <td>0618391002</td>\n",
       "      <td>9780618391004</td>\n",
       "      <td>eng</td>\n",
       "      <td>218</td>\n",
       "      <td>19822</td>\n",
       "      <td>46</td>\n",
       "      <td>11/5/2003</td>\n",
       "      <td>Houghton Mifflin Harcourt</td>\n",
       "      <td>2003</td>\n",
       "    </tr>\n",
       "    <tr>\n",
       "      <th>72</th>\n",
       "      <td>119</td>\n",
       "      <td>The Lord of the Rings: The Art of the Fellowsh...</td>\n",
       "      <td>Gary Russell</td>\n",
       "      <td>4.59</td>\n",
       "      <td>0618212906</td>\n",
       "      <td>9780618212903</td>\n",
       "      <td>eng</td>\n",
       "      <td>192</td>\n",
       "      <td>26153</td>\n",
       "      <td>102</td>\n",
       "      <td>6/12/2002</td>\n",
       "      <td>Houghton Mifflin Harcourt</td>\n",
       "      <td>2002</td>\n",
       "    </tr>\n",
       "    <tr>\n",
       "      <th>165</th>\n",
       "      <td>397</td>\n",
       "      <td>The Gettysburg Address</td>\n",
       "      <td>Abraham Lincoln/Michael McCurdy</td>\n",
       "      <td>4.53</td>\n",
       "      <td>0395883970</td>\n",
       "      <td>9780395883976</td>\n",
       "      <td>eng</td>\n",
       "      <td>32</td>\n",
       "      <td>5239</td>\n",
       "      <td>76</td>\n",
       "      <td>2/2/1998</td>\n",
       "      <td>HMH Books for Young Readers</td>\n",
       "      <td>1998</td>\n",
       "    </tr>\n",
       "    <tr>\n",
       "      <th>285</th>\n",
       "      <td>866</td>\n",
       "      <td>Fullmetal Alchemist  Vol. 9 (Fullmetal Alchemi...</td>\n",
       "      <td>Hiromu Arakawa/Akira Watanabe</td>\n",
       "      <td>4.57</td>\n",
       "      <td>142150460X</td>\n",
       "      <td>9781421504605</td>\n",
       "      <td>eng</td>\n",
       "      <td>192</td>\n",
       "      <td>9013</td>\n",
       "      <td>153</td>\n",
       "      <td>9/19/2006</td>\n",
       "      <td>VIZ Media LLC</td>\n",
       "      <td>2006</td>\n",
       "    </tr>\n",
       "    <tr>\n",
       "      <th>286</th>\n",
       "      <td>868</td>\n",
       "      <td>Fullmetal Alchemist  Vol. 3 (Fullmetal Alchemi...</td>\n",
       "      <td>Hiromu Arakawa/Akira Watanabe</td>\n",
       "      <td>4.56</td>\n",
       "      <td>1591169259</td>\n",
       "      <td>9781591169253</td>\n",
       "      <td>eng</td>\n",
       "      <td>192</td>\n",
       "      <td>16666</td>\n",
       "      <td>299</td>\n",
       "      <td>9/13/2005</td>\n",
       "      <td>VIZ Media LLC</td>\n",
       "      <td>2005</td>\n",
       "    </tr>\n",
       "    <tr>\n",
       "      <th>287</th>\n",
       "      <td>869</td>\n",
       "      <td>Fullmetal Alchemist  Vol. 8 (Fullmetal Alchemi...</td>\n",
       "      <td>Hiromu Arakawa/Akira Watanabe</td>\n",
       "      <td>4.57</td>\n",
       "      <td>1421504596</td>\n",
       "      <td>9781421504599</td>\n",
       "      <td>eng</td>\n",
       "      <td>192</td>\n",
       "      <td>11451</td>\n",
       "      <td>161</td>\n",
       "      <td>7/18/2006</td>\n",
       "      <td>VIZ Media LLC</td>\n",
       "      <td>2006</td>\n",
       "    </tr>\n",
       "    <tr>\n",
       "      <th>289</th>\n",
       "      <td>871</td>\n",
       "      <td>Fullmetal Alchemist  Vol. 4 (Fullmetal Alchemi...</td>\n",
       "      <td>Hiromu Arakawa/Akira Watanabe</td>\n",
       "      <td>4.55</td>\n",
       "      <td>1591169291</td>\n",
       "      <td>9781591169291</td>\n",
       "      <td>eng</td>\n",
       "      <td>200</td>\n",
       "      <td>10752</td>\n",
       "      <td>294</td>\n",
       "      <td>11/8/2005</td>\n",
       "      <td>VIZ Media LLC</td>\n",
       "      <td>2005</td>\n",
       "    </tr>\n",
       "    <tr>\n",
       "      <th>291</th>\n",
       "      <td>873</td>\n",
       "      <td>Fullmetal Alchemist  Vol. 2 (Fullmetal Alchemi...</td>\n",
       "      <td>Hiromu Arakawa/Akira Watanabe</td>\n",
       "      <td>4.52</td>\n",
       "      <td>1591169232</td>\n",
       "      <td>9781591169239</td>\n",
       "      <td>eng</td>\n",
       "      <td>192</td>\n",
       "      <td>14923</td>\n",
       "      <td>419</td>\n",
       "      <td>7/5/2005</td>\n",
       "      <td>VIZ Media LLC</td>\n",
       "      <td>2005</td>\n",
       "    </tr>\n",
       "    <tr>\n",
       "      <th>335</th>\n",
       "      <td>1111</td>\n",
       "      <td>The Power Broker: Robert Moses and the Fall of...</td>\n",
       "      <td>Robert A. Caro</td>\n",
       "      <td>4.51</td>\n",
       "      <td>0394720245</td>\n",
       "      <td>9780394720241</td>\n",
       "      <td>eng</td>\n",
       "      <td>1344</td>\n",
       "      <td>11208</td>\n",
       "      <td>1237</td>\n",
       "      <td>7/12/1975</td>\n",
       "      <td>Vintage</td>\n",
       "      <td>1975</td>\n",
       "    </tr>\n",
       "    <tr>\n",
       "      <th>1575</th>\n",
       "      <td>5417</td>\n",
       "      <td>Carrie / 'Salem's Lot / The Shining</td>\n",
       "      <td>Stephen King</td>\n",
       "      <td>4.54</td>\n",
       "      <td>0517219026</td>\n",
       "      <td>9780517219027</td>\n",
       "      <td>eng</td>\n",
       "      <td>1096</td>\n",
       "      <td>13137</td>\n",
       "      <td>61</td>\n",
       "      <td>7/2/2002</td>\n",
       "      <td>Wings</td>\n",
       "      <td>2002</td>\n",
       "    </tr>\n",
       "    <tr>\n",
       "      <th>2528</th>\n",
       "      <td>9325</td>\n",
       "      <td>Fullmetal Alchemist  Vol. 10</td>\n",
       "      <td>Hiromu Arakawa/Akira Watanabe</td>\n",
       "      <td>4.60</td>\n",
       "      <td>1421504618</td>\n",
       "      <td>9781421504612</td>\n",
       "      <td>eng</td>\n",
       "      <td>200</td>\n",
       "      <td>8989</td>\n",
       "      <td>151</td>\n",
       "      <td>11/21/2006</td>\n",
       "      <td>VIZ Media LLC</td>\n",
       "      <td>2006</td>\n",
       "    </tr>\n",
       "    <tr>\n",
       "      <th>2529</th>\n",
       "      <td>9326</td>\n",
       "      <td>Fullmetal Alchemist  Vol. 5 (Fullmetal Alchemi...</td>\n",
       "      <td>Hiromu Arakawa/Akira Watanabe</td>\n",
       "      <td>4.56</td>\n",
       "      <td>1421501759</td>\n",
       "      <td>9781421501758</td>\n",
       "      <td>eng</td>\n",
       "      <td>200</td>\n",
       "      <td>12885</td>\n",
       "      <td>208</td>\n",
       "      <td>1/10/2006</td>\n",
       "      <td>VIZ Media LLC</td>\n",
       "      <td>2006</td>\n",
       "    </tr>\n",
       "    <tr>\n",
       "      <th>4160</th>\n",
       "      <td>14905</td>\n",
       "      <td>The Complete Novels</td>\n",
       "      <td>Jane Austen</td>\n",
       "      <td>4.55</td>\n",
       "      <td>0140259449</td>\n",
       "      <td>9780140259445</td>\n",
       "      <td>eng</td>\n",
       "      <td>1344</td>\n",
       "      <td>21633</td>\n",
       "      <td>351</td>\n",
       "      <td>6/17/1996</td>\n",
       "      <td>Penguin</td>\n",
       "      <td>1996</td>\n",
       "    </tr>\n",
       "    <tr>\n",
       "      <th>4244</th>\n",
       "      <td>15195</td>\n",
       "      <td>The Complete Maus</td>\n",
       "      <td>Art Spiegelman</td>\n",
       "      <td>4.55</td>\n",
       "      <td>0141014083</td>\n",
       "      <td>9780141014081</td>\n",
       "      <td>eng</td>\n",
       "      <td>296</td>\n",
       "      <td>111475</td>\n",
       "      <td>5966</td>\n",
       "      <td>10/2/2003</td>\n",
       "      <td>Penguin Books</td>\n",
       "      <td>2003</td>\n",
       "    </tr>\n",
       "    <tr>\n",
       "      <th>4411</th>\n",
       "      <td>15872</td>\n",
       "      <td>Harry Potter y el misterio del príncipe (Harry...</td>\n",
       "      <td>J.K. Rowling/Gemma Rovira Ortega</td>\n",
       "      <td>4.57</td>\n",
       "      <td>8478889930</td>\n",
       "      <td>9788478889938</td>\n",
       "      <td>spa</td>\n",
       "      <td>602</td>\n",
       "      <td>5104</td>\n",
       "      <td>386</td>\n",
       "      <td>2/28/2006</td>\n",
       "      <td>Salamandra</td>\n",
       "      <td>2006</td>\n",
       "    </tr>\n",
       "    <tr>\n",
       "      <th>4968</th>\n",
       "      <td>17961</td>\n",
       "      <td>Collected Fictions</td>\n",
       "      <td>Jorge Luis Borges/Andrew Hurley</td>\n",
       "      <td>4.58</td>\n",
       "      <td>0140286802</td>\n",
       "      <td>9780140286809</td>\n",
       "      <td>eng</td>\n",
       "      <td>565</td>\n",
       "      <td>18874</td>\n",
       "      <td>791</td>\n",
       "      <td>9/30/1999</td>\n",
       "      <td>Penguin Classics Deluxe Edition</td>\n",
       "      <td>1999</td>\n",
       "    </tr>\n",
       "    <tr>\n",
       "      <th>5980</th>\n",
       "      <td>22424</td>\n",
       "      <td>Transmetropolitan  Vol. 10: One More Time</td>\n",
       "      <td>Warren Ellis/Darick Robertson/Rodney Ramos</td>\n",
       "      <td>4.51</td>\n",
       "      <td>1401202179</td>\n",
       "      <td>9781401202170</td>\n",
       "      <td>eng</td>\n",
       "      <td>144</td>\n",
       "      <td>10308</td>\n",
       "      <td>184</td>\n",
       "      <td>6/1/2004</td>\n",
       "      <td>Vertigo</td>\n",
       "      <td>2004</td>\n",
       "    </tr>\n",
       "    <tr>\n",
       "      <th>6230</th>\n",
       "      <td>23506</td>\n",
       "      <td>Fullmetal Alchemist  Vol. 11 (Fullmetal Alchem...</td>\n",
       "      <td>Hiromu Arakawa/Akira Watanabe</td>\n",
       "      <td>4.59</td>\n",
       "      <td>1421508389</td>\n",
       "      <td>9781421508382</td>\n",
       "      <td>eng</td>\n",
       "      <td>192</td>\n",
       "      <td>7655</td>\n",
       "      <td>129</td>\n",
       "      <td>1/16/2007</td>\n",
       "      <td>VIZ Media LLC</td>\n",
       "      <td>2007</td>\n",
       "    </tr>\n",
       "    <tr>\n",
       "      <th>6294</th>\n",
       "      <td>23753</td>\n",
       "      <td>The Absolute Sandman  Volume One</td>\n",
       "      <td>Neil Gaiman/Mike Dringenberg/Chris Bachalo/Mic...</td>\n",
       "      <td>4.65</td>\n",
       "      <td>1401210821</td>\n",
       "      <td>9781401210823</td>\n",
       "      <td>eng</td>\n",
       "      <td>612</td>\n",
       "      <td>15640</td>\n",
       "      <td>512</td>\n",
       "      <td>11/1/2006</td>\n",
       "      <td>Vertigo</td>\n",
       "      <td>2006</td>\n",
       "    </tr>\n",
       "    <tr>\n",
       "      <th>6587</th>\n",
       "      <td>24812</td>\n",
       "      <td>The Complete Calvin and Hobbes</td>\n",
       "      <td>Bill Watterson</td>\n",
       "      <td>4.82</td>\n",
       "      <td>0740748475</td>\n",
       "      <td>9780740748479</td>\n",
       "      <td>eng</td>\n",
       "      <td>1456</td>\n",
       "      <td>32213</td>\n",
       "      <td>930</td>\n",
       "      <td>9/6/2005</td>\n",
       "      <td>Andrews McMeel Publishing</td>\n",
       "      <td>2005</td>\n",
       "    </tr>\n",
       "    <tr>\n",
       "      <th>6588</th>\n",
       "      <td>24813</td>\n",
       "      <td>The Calvin and Hobbes Tenth Anniversary Book</td>\n",
       "      <td>Bill Watterson</td>\n",
       "      <td>4.63</td>\n",
       "      <td>0836204387</td>\n",
       "      <td>9780836204384</td>\n",
       "      <td>eng</td>\n",
       "      <td>208</td>\n",
       "      <td>49122</td>\n",
       "      <td>368</td>\n",
       "      <td>9/5/1995</td>\n",
       "      <td>Andrews McMeel Publishing</td>\n",
       "      <td>1995</td>\n",
       "    </tr>\n",
       "    <tr>\n",
       "      <th>6589</th>\n",
       "      <td>24814</td>\n",
       "      <td>It's a Magical World (Calvin and Hobbes  #11)</td>\n",
       "      <td>Bill Watterson</td>\n",
       "      <td>4.76</td>\n",
       "      <td>0836221362</td>\n",
       "      <td>9780836221367</td>\n",
       "      <td>eng</td>\n",
       "      <td>176</td>\n",
       "      <td>23875</td>\n",
       "      <td>303</td>\n",
       "      <td>9/1/1996</td>\n",
       "      <td>Andrews McMeel Publishing</td>\n",
       "      <td>1996</td>\n",
       "    </tr>\n",
       "    <tr>\n",
       "      <th>6590</th>\n",
       "      <td>24816</td>\n",
       "      <td>Homicidal Psycho Jungle Cat (Calvin and Hobbes...</td>\n",
       "      <td>Bill Watterson</td>\n",
       "      <td>4.72</td>\n",
       "      <td>0836217691</td>\n",
       "      <td>9780836217698</td>\n",
       "      <td>eng</td>\n",
       "      <td>176</td>\n",
       "      <td>15365</td>\n",
       "      <td>290</td>\n",
       "      <td>9/6/1994</td>\n",
       "      <td>Andrews McMeel Publishing</td>\n",
       "      <td>1994</td>\n",
       "    </tr>\n",
       "    <tr>\n",
       "      <th>6591</th>\n",
       "      <td>24818</td>\n",
       "      <td>The Days Are Just Packed</td>\n",
       "      <td>Bill Watterson</td>\n",
       "      <td>4.69</td>\n",
       "      <td>0836217357</td>\n",
       "      <td>9780836217353</td>\n",
       "      <td>eng</td>\n",
       "      <td>176</td>\n",
       "      <td>20308</td>\n",
       "      <td>244</td>\n",
       "      <td>9/1/1993</td>\n",
       "      <td>Andrews McMeel Publishing</td>\n",
       "      <td>1993</td>\n",
       "    </tr>\n",
       "    <tr>\n",
       "      <th>6691</th>\n",
       "      <td>25101</td>\n",
       "      <td>Season of Mists (The Sandman  #4)</td>\n",
       "      <td>Neil Gaiman/Matt Wagner/George Pratt/Dick Gior...</td>\n",
       "      <td>4.54</td>\n",
       "      <td>1563890356</td>\n",
       "      <td>9781563890352</td>\n",
       "      <td>eng</td>\n",
       "      <td>217</td>\n",
       "      <td>50951</td>\n",
       "      <td>1038</td>\n",
       "      <td>3/10/1999</td>\n",
       "      <td>Vertigo</td>\n",
       "      <td>1999</td>\n",
       "    </tr>\n",
       "    <tr>\n",
       "      <th>6694</th>\n",
       "      <td>25104</td>\n",
       "      <td>The Wake (The Sandman  #10)</td>\n",
       "      <td>Neil Gaiman/Michael Zulli/Jon J. Muth/Charles ...</td>\n",
       "      <td>4.52</td>\n",
       "      <td>1563892871</td>\n",
       "      <td>9781563892875</td>\n",
       "      <td>eng</td>\n",
       "      <td>191</td>\n",
       "      <td>37038</td>\n",
       "      <td>767</td>\n",
       "      <td>9/3/1999</td>\n",
       "      <td>Vertigo</td>\n",
       "      <td>1999</td>\n",
       "    </tr>\n",
       "    <tr>\n",
       "      <th>6977</th>\n",
       "      <td>26422</td>\n",
       "      <td>Fullmetal Alchemist  Vol. 14 (Fullmetal Alchem...</td>\n",
       "      <td>Hiromu Arakawa/Akira Watanabe</td>\n",
       "      <td>4.59</td>\n",
       "      <td>142151379X</td>\n",
       "      <td>9781421513799</td>\n",
       "      <td>eng</td>\n",
       "      <td>192</td>\n",
       "      <td>8634</td>\n",
       "      <td>118</td>\n",
       "      <td>8/14/2007</td>\n",
       "      <td>VIZ Media LLC</td>\n",
       "      <td>2007</td>\n",
       "    </tr>\n",
       "    <tr>\n",
       "      <th>6979</th>\n",
       "      <td>26426</td>\n",
       "      <td>Fullmetal Alchemist  Vol. 12 (Fullmetal Alchem...</td>\n",
       "      <td>Hiromu Arakawa/Akira Watanabe</td>\n",
       "      <td>4.60</td>\n",
       "      <td>1421508397</td>\n",
       "      <td>9781421508399</td>\n",
       "      <td>eng</td>\n",
       "      <td>192</td>\n",
       "      <td>7480</td>\n",
       "      <td>119</td>\n",
       "      <td>3/20/2007</td>\n",
       "      <td>VIZ Media LLC</td>\n",
       "      <td>2007</td>\n",
       "    </tr>\n",
       "    <tr>\n",
       "      <th>10055</th>\n",
       "      <td>40490</td>\n",
       "      <td>The Valley of Vision: A Collection of Puritan ...</td>\n",
       "      <td>Arthur Bennett</td>\n",
       "      <td>4.54</td>\n",
       "      <td>0851512283</td>\n",
       "      <td>9780851512280</td>\n",
       "      <td>eng</td>\n",
       "      <td>223</td>\n",
       "      <td>9476</td>\n",
       "      <td>247</td>\n",
       "      <td>11/1/1975</td>\n",
       "      <td>Banner of Truth</td>\n",
       "      <td>1975</td>\n",
       "    </tr>\n",
       "    <tr>\n",
       "      <th>10675</th>\n",
       "      <td>43509</td>\n",
       "      <td>Harry Potter and the Goblet of Fire (Harry Pot...</td>\n",
       "      <td>J.K. Rowling</td>\n",
       "      <td>4.56</td>\n",
       "      <td>074754624X</td>\n",
       "      <td>9780747546245</td>\n",
       "      <td>eng</td>\n",
       "      <td>636</td>\n",
       "      <td>18754</td>\n",
       "      <td>906</td>\n",
       "      <td>7/8/2000</td>\n",
       "      <td>Bloomsbury</td>\n",
       "      <td>2000</td>\n",
       "    </tr>\n",
       "    <tr>\n",
       "      <th>10918</th>\n",
       "      <td>44734</td>\n",
       "      <td>Fullmetal Alchemist  Vol. 6 (Fullmetal Alchemi...</td>\n",
       "      <td>Hiromu Arakawa/Akira Watanabe</td>\n",
       "      <td>4.58</td>\n",
       "      <td>1421503190</td>\n",
       "      <td>9781421503196</td>\n",
       "      <td>eng</td>\n",
       "      <td>200</td>\n",
       "      <td>10052</td>\n",
       "      <td>201</td>\n",
       "      <td>3/21/2006</td>\n",
       "      <td>VIZ Media LLC</td>\n",
       "      <td>2006</td>\n",
       "    </tr>\n",
       "  </tbody>\n",
       "</table>\n",
       "</div>"
      ],
      "text/plain": [
       "       bookID                                              title  \\\n",
       "0           1  Harry Potter and the Half-Blood Prince (Harry ...   \n",
       "3           5  Harry Potter and the Prisoner of Azkaban (Harr...   \n",
       "4           8  Harry Potter Boxed Set  Books 1-5 (Harry Potte...   \n",
       "6          10       Harry Potter Collection (Harry Potter  #1-6)   \n",
       "21         30  J.R.R. Tolkien 4-Book Boxed Set: The Hobbit an...   \n",
       "25         36         The Lord of the Rings: Weapons and Warfare   \n",
       "72        119  The Lord of the Rings: The Art of the Fellowsh...   \n",
       "165       397                             The Gettysburg Address   \n",
       "285       866  Fullmetal Alchemist  Vol. 9 (Fullmetal Alchemi...   \n",
       "286       868  Fullmetal Alchemist  Vol. 3 (Fullmetal Alchemi...   \n",
       "287       869  Fullmetal Alchemist  Vol. 8 (Fullmetal Alchemi...   \n",
       "289       871  Fullmetal Alchemist  Vol. 4 (Fullmetal Alchemi...   \n",
       "291       873  Fullmetal Alchemist  Vol. 2 (Fullmetal Alchemi...   \n",
       "335      1111  The Power Broker: Robert Moses and the Fall of...   \n",
       "1575     5417                Carrie / 'Salem's Lot / The Shining   \n",
       "2528     9325                       Fullmetal Alchemist  Vol. 10   \n",
       "2529     9326  Fullmetal Alchemist  Vol. 5 (Fullmetal Alchemi...   \n",
       "4160    14905                                The Complete Novels   \n",
       "4244    15195                                  The Complete Maus   \n",
       "4411    15872  Harry Potter y el misterio del príncipe (Harry...   \n",
       "4968    17961                                 Collected Fictions   \n",
       "5980    22424          Transmetropolitan  Vol. 10: One More Time   \n",
       "6230    23506  Fullmetal Alchemist  Vol. 11 (Fullmetal Alchem...   \n",
       "6294    23753                   The Absolute Sandman  Volume One   \n",
       "6587    24812                     The Complete Calvin and Hobbes   \n",
       "6588    24813       The Calvin and Hobbes Tenth Anniversary Book   \n",
       "6589    24814      It's a Magical World (Calvin and Hobbes  #11)   \n",
       "6590    24816  Homicidal Psycho Jungle Cat (Calvin and Hobbes...   \n",
       "6591    24818                           The Days Are Just Packed   \n",
       "6691    25101                  Season of Mists (The Sandman  #4)   \n",
       "6694    25104                        The Wake (The Sandman  #10)   \n",
       "6977    26422  Fullmetal Alchemist  Vol. 14 (Fullmetal Alchem...   \n",
       "6979    26426  Fullmetal Alchemist  Vol. 12 (Fullmetal Alchem...   \n",
       "10055   40490  The Valley of Vision: A Collection of Puritan ...   \n",
       "10675   43509  Harry Potter and the Goblet of Fire (Harry Pot...   \n",
       "10918   44734  Fullmetal Alchemist  Vol. 6 (Fullmetal Alchemi...   \n",
       "\n",
       "                                                 authors  average_rating  \\\n",
       "0                             J.K. Rowling/Mary GrandPré            4.57   \n",
       "3                             J.K. Rowling/Mary GrandPré            4.56   \n",
       "4                             J.K. Rowling/Mary GrandPré            4.78   \n",
       "6                                           J.K. Rowling            4.73   \n",
       "21                                        J.R.R. Tolkien            4.59   \n",
       "25         Chris   Smith/Christopher  Lee/Richard Taylor            4.53   \n",
       "72                                          Gary Russell            4.59   \n",
       "165                      Abraham Lincoln/Michael McCurdy            4.53   \n",
       "285                        Hiromu Arakawa/Akira Watanabe            4.57   \n",
       "286                        Hiromu Arakawa/Akira Watanabe            4.56   \n",
       "287                        Hiromu Arakawa/Akira Watanabe            4.57   \n",
       "289                        Hiromu Arakawa/Akira Watanabe            4.55   \n",
       "291                        Hiromu Arakawa/Akira Watanabe            4.52   \n",
       "335                                       Robert A. Caro            4.51   \n",
       "1575                                        Stephen King            4.54   \n",
       "2528                       Hiromu Arakawa/Akira Watanabe            4.60   \n",
       "2529                       Hiromu Arakawa/Akira Watanabe            4.56   \n",
       "4160                                         Jane Austen            4.55   \n",
       "4244                                      Art Spiegelman            4.55   \n",
       "4411                    J.K. Rowling/Gemma Rovira Ortega            4.57   \n",
       "4968                     Jorge Luis Borges/Andrew Hurley            4.58   \n",
       "5980          Warren Ellis/Darick Robertson/Rodney Ramos            4.51   \n",
       "6230                       Hiromu Arakawa/Akira Watanabe            4.59   \n",
       "6294   Neil Gaiman/Mike Dringenberg/Chris Bachalo/Mic...            4.65   \n",
       "6587                                      Bill Watterson            4.82   \n",
       "6588                                      Bill Watterson            4.63   \n",
       "6589                                      Bill Watterson            4.76   \n",
       "6590                                      Bill Watterson            4.72   \n",
       "6591                                      Bill Watterson            4.69   \n",
       "6691   Neil Gaiman/Matt Wagner/George Pratt/Dick Gior...            4.54   \n",
       "6694   Neil Gaiman/Michael Zulli/Jon J. Muth/Charles ...            4.52   \n",
       "6977                       Hiromu Arakawa/Akira Watanabe            4.59   \n",
       "6979                       Hiromu Arakawa/Akira Watanabe            4.60   \n",
       "10055                                     Arthur Bennett            4.54   \n",
       "10675                                       J.K. Rowling            4.56   \n",
       "10918                      Hiromu Arakawa/Akira Watanabe            4.58   \n",
       "\n",
       "             isbn         isbn13 language_code  num_pages  ratings_count  \\\n",
       "0      0439785960  9780439785969           eng        652        2095690   \n",
       "3      043965548X  9780439655484           eng        435        2339585   \n",
       "4      0439682584  9780439682589           eng       2690          41428   \n",
       "6      0439827604  9780439827607           eng       3342          28242   \n",
       "21     0345538374  9780345538376           eng       1728         101233   \n",
       "25     0618391002  9780618391004           eng        218          19822   \n",
       "72     0618212906  9780618212903           eng        192          26153   \n",
       "165    0395883970  9780395883976           eng         32           5239   \n",
       "285    142150460X  9781421504605           eng        192           9013   \n",
       "286    1591169259  9781591169253           eng        192          16666   \n",
       "287    1421504596  9781421504599           eng        192          11451   \n",
       "289    1591169291  9781591169291           eng        200          10752   \n",
       "291    1591169232  9781591169239           eng        192          14923   \n",
       "335    0394720245  9780394720241           eng       1344          11208   \n",
       "1575   0517219026  9780517219027           eng       1096          13137   \n",
       "2528   1421504618  9781421504612           eng        200           8989   \n",
       "2529   1421501759  9781421501758           eng        200          12885   \n",
       "4160   0140259449  9780140259445           eng       1344          21633   \n",
       "4244   0141014083  9780141014081           eng        296         111475   \n",
       "4411   8478889930  9788478889938           spa        602           5104   \n",
       "4968   0140286802  9780140286809           eng        565          18874   \n",
       "5980   1401202179  9781401202170           eng        144          10308   \n",
       "6230   1421508389  9781421508382           eng        192           7655   \n",
       "6294   1401210821  9781401210823           eng        612          15640   \n",
       "6587   0740748475  9780740748479           eng       1456          32213   \n",
       "6588   0836204387  9780836204384           eng        208          49122   \n",
       "6589   0836221362  9780836221367           eng        176          23875   \n",
       "6590   0836217691  9780836217698           eng        176          15365   \n",
       "6591   0836217357  9780836217353           eng        176          20308   \n",
       "6691   1563890356  9781563890352           eng        217          50951   \n",
       "6694   1563892871  9781563892875           eng        191          37038   \n",
       "6977   142151379X  9781421513799           eng        192           8634   \n",
       "6979   1421508397  9781421508399           eng        192           7480   \n",
       "10055  0851512283  9780851512280           eng        223           9476   \n",
       "10675  074754624X  9780747546245           eng        636          18754   \n",
       "10918  1421503190  9781421503196           eng        200          10052   \n",
       "\n",
       "       text_reviews_count publication_date                        publisher  \\\n",
       "0                   27591        9/16/2006                  Scholastic Inc.   \n",
       "3                   36325         5/1/2004                  Scholastic Inc.   \n",
       "4                     164        9/13/2004                       Scholastic   \n",
       "6                     808        9/12/2005                       Scholastic   \n",
       "21                   1550        9/25/2012                 Ballantine Books   \n",
       "25                     46        11/5/2003        Houghton Mifflin Harcourt   \n",
       "72                    102        6/12/2002        Houghton Mifflin Harcourt   \n",
       "165                    76         2/2/1998      HMH Books for Young Readers   \n",
       "285                   153        9/19/2006                    VIZ Media LLC   \n",
       "286                   299        9/13/2005                    VIZ Media LLC   \n",
       "287                   161        7/18/2006                    VIZ Media LLC   \n",
       "289                   294        11/8/2005                    VIZ Media LLC   \n",
       "291                   419         7/5/2005                    VIZ Media LLC   \n",
       "335                  1237        7/12/1975                          Vintage   \n",
       "1575                   61         7/2/2002                            Wings   \n",
       "2528                  151       11/21/2006                    VIZ Media LLC   \n",
       "2529                  208        1/10/2006                    VIZ Media LLC   \n",
       "4160                  351        6/17/1996                          Penguin   \n",
       "4244                 5966        10/2/2003                    Penguin Books   \n",
       "4411                  386        2/28/2006                       Salamandra   \n",
       "4968                  791        9/30/1999  Penguin Classics Deluxe Edition   \n",
       "5980                  184         6/1/2004                          Vertigo   \n",
       "6230                  129        1/16/2007                    VIZ Media LLC   \n",
       "6294                  512        11/1/2006                          Vertigo   \n",
       "6587                  930         9/6/2005        Andrews McMeel Publishing   \n",
       "6588                  368         9/5/1995        Andrews McMeel Publishing   \n",
       "6589                  303         9/1/1996        Andrews McMeel Publishing   \n",
       "6590                  290         9/6/1994        Andrews McMeel Publishing   \n",
       "6591                  244         9/1/1993        Andrews McMeel Publishing   \n",
       "6691                 1038        3/10/1999                          Vertigo   \n",
       "6694                  767         9/3/1999                          Vertigo   \n",
       "6977                  118        8/14/2007                    VIZ Media LLC   \n",
       "6979                  119        3/20/2007                    VIZ Media LLC   \n",
       "10055                 247        11/1/1975                  Banner of Truth   \n",
       "10675                 906         7/8/2000                       Bloomsbury   \n",
       "10918                 201        3/21/2006                    VIZ Media LLC   \n",
       "\n",
       "       year  \n",
       "0      2006  \n",
       "3      2004  \n",
       "4      2004  \n",
       "6      2005  \n",
       "21     2012  \n",
       "25     2003  \n",
       "72     2002  \n",
       "165    1998  \n",
       "285    2006  \n",
       "286    2005  \n",
       "287    2006  \n",
       "289    2005  \n",
       "291    2005  \n",
       "335    1975  \n",
       "1575   2002  \n",
       "2528   2006  \n",
       "2529   2006  \n",
       "4160   1996  \n",
       "4244   2003  \n",
       "4411   2006  \n",
       "4968   1999  \n",
       "5980   2004  \n",
       "6230   2007  \n",
       "6294   2006  \n",
       "6587   2005  \n",
       "6588   1995  \n",
       "6589   1996  \n",
       "6590   1994  \n",
       "6591   1993  \n",
       "6691   1999  \n",
       "6694   1999  \n",
       "6977   2007  \n",
       "6979   2007  \n",
       "10055  1975  \n",
       "10675  2000  \n",
       "10918  2006  "
      ]
     },
     "execution_count": 32,
     "metadata": {},
     "output_type": "execute_result"
    }
   ],
   "source": [
    "df[np.logical_and(df['average_rating']>4.5, df['ratings_count']>5000)]"
   ]
  },
  {
   "cell_type": "code",
   "execution_count": 33,
   "id": "8aa9c1ce",
   "metadata": {},
   "outputs": [
    {
     "name": "stdout",
     "output_type": "stream",
     "text": [
      "500  :  title    Lysistrata and Other Plays\n",
      "Name: 500, dtype: object\n",
      "501  :  title    Acharnians\n",
      "Name: 501, dtype: object\n",
      "502  :  title    Clouds\n",
      "Name: 502, dtype: object\n",
      "503  :  title    Clouds/Wasps/Peace\n",
      "Name: 503, dtype: object\n",
      "504  :  title    Three Plays: The Wasps / The Poet and the Wome...\n",
      "Name: 504, dtype: object\n"
     ]
    }
   ],
   "source": [
    "#Books between index 500 and 505\n",
    "\n",
    "for index,value in df[['title']][500:505].iterrows():\n",
    "    print(index,\" : \",value)"
   ]
  },
  {
   "cell_type": "code",
   "execution_count": 34,
   "id": "5a77c895",
   "metadata": {},
   "outputs": [
    {
     "data": {
      "text/html": [
       "<div>\n",
       "<style scoped>\n",
       "    .dataframe tbody tr th:only-of-type {\n",
       "        vertical-align: middle;\n",
       "    }\n",
       "\n",
       "    .dataframe tbody tr th {\n",
       "        vertical-align: top;\n",
       "    }\n",
       "\n",
       "    .dataframe thead th {\n",
       "        text-align: right;\n",
       "    }\n",
       "</style>\n",
       "<table border=\"1\" class=\"dataframe\">\n",
       "  <thead>\n",
       "    <tr style=\"text-align: right;\">\n",
       "      <th></th>\n",
       "      <th>authors</th>\n",
       "      <th>title</th>\n",
       "    </tr>\n",
       "  </thead>\n",
       "  <tbody>\n",
       "    <tr>\n",
       "      <th>5648</th>\n",
       "      <td>R. McL. Wilson</td>\n",
       "      <td>Colossians and Philemon: A Critical and Exeget...</td>\n",
       "    </tr>\n",
       "    <tr>\n",
       "      <th>6587</th>\n",
       "      <td>Bill Watterson</td>\n",
       "      <td>The Complete Calvin and Hobbes</td>\n",
       "    </tr>\n",
       "  </tbody>\n",
       "</table>\n",
       "</div>"
      ],
      "text/plain": [
       "             authors                                              title\n",
       "5648  R. McL. Wilson  Colossians and Philemon: A Critical and Exeget...\n",
       "6587  Bill Watterson                     The Complete Calvin and Hobbes"
      ]
     },
     "execution_count": 34,
     "metadata": {},
     "output_type": "execute_result"
    }
   ],
   "source": [
    "df[[\"authors\",\"title\"]][(df[\"language_code\"]==\"eng\") & (df[\"average_rating\"]>4.8) & (df[\"num_pages\"]>500)]"
   ]
  },
  {
   "cell_type": "code",
   "execution_count": 35,
   "id": "a1ace5d6",
   "metadata": {},
   "outputs": [
    {
     "data": {
      "text/plain": [
       "6497    The Complete Aubrey/Maturin Novels (5 Volumes)\n",
       "Name: title, dtype: object"
      ]
     },
     "execution_count": 35,
     "metadata": {},
     "output_type": "execute_result"
    }
   ],
   "source": [
    "#Retrieve the max page number book name\n",
    "\n",
    "maximum = df[\"num_pages\"].max()\n",
    "df[(df[\"num_pages\"] == maximum)].title"
   ]
  },
  {
   "cell_type": "code",
   "execution_count": 36,
   "id": "6ce88e3b",
   "metadata": {},
   "outputs": [
    {
     "data": {
      "text/plain": [
       "624     Comoediae 1: Acharenses/Equites/Nubes/Vespae/P...\n",
       "786                     Willem de Kooning: Late Paintings\n",
       "855     Literature Circle Guide: Bridge to Terabithia:...\n",
       "1243    Middlesex Borough (Images of America: New Jersey)\n",
       "4125    Zone of the Enders: The 2nd Runner Official St...\n",
       "Name: title, dtype: object"
      ]
     },
     "execution_count": 36,
     "metadata": {},
     "output_type": "execute_result"
    }
   ],
   "source": [
    "#retrieve the 5 best average rating book\n",
    "maximum = df[\"average_rating\"].max()\n",
    "df[(df[\"average_rating\"] == maximum)].title.head(5)"
   ]
  },
  {
   "cell_type": "code",
   "execution_count": 37,
   "id": "50be3061",
   "metadata": {},
   "outputs": [
    {
     "data": {
      "text/plain": [
       "6497    6576\n",
       "Name: num_pages, dtype: int64"
      ]
     },
     "execution_count": 37,
     "metadata": {},
     "output_type": "execute_result"
    }
   ],
   "source": [
    "#Retrieve the num pages of given book name\n",
    "\n",
    "df[df[\"title\"]==\"The Complete Aubrey/Maturin Novels (5 Volumes)\"][\"num_pages\"]"
   ]
  },
  {
   "cell_type": "code",
   "execution_count": 38,
   "id": "0ddf6e9d",
   "metadata": {},
   "outputs": [
    {
     "data": {
      "text/plain": [
       "eng      8908\n",
       "en-US    1408\n",
       "spa       218\n",
       "en-GB     214\n",
       "fre       144\n",
       "ger        99\n",
       "jpn        46\n",
       "mul        19\n",
       "zho        14\n",
       "grc        11\n",
       "por        10\n",
       "en-CA       7\n",
       "ita         5\n",
       "lat         3\n",
       "enm         3\n",
       "rus         2\n",
       "swe         2\n",
       "nor         1\n",
       "glg         1\n",
       "msa         1\n",
       "nl          1\n",
       "ara         1\n",
       "tur         1\n",
       "gla         1\n",
       "srp         1\n",
       "wel         1\n",
       "ale         1\n",
       "Name: language_code, dtype: int64"
      ]
     },
     "execution_count": 38,
     "metadata": {},
     "output_type": "execute_result"
    }
   ],
   "source": [
    "df[\"language_code\"].value_counts().sort_values(ascending=False)"
   ]
  },
  {
   "cell_type": "code",
   "execution_count": 39,
   "id": "dd776bde",
   "metadata": {},
   "outputs": [],
   "source": [
    "#Top 100 average_rating books\n",
    "\n",
    "# top = df[df.average_rating>4.8].sort_values(by='average_rating',ascending=False).head(100)\n",
    "# top.plot('title','average_rating',kind='bar',figsize=(30,10))\n",
    "\n",
    "# plt.xlabel('Book Title')\n",
    "# plt.ylabel('Average Rating')\n",
    "# plt.title('100 Best Average Rating Books')"
   ]
  },
  {
   "cell_type": "code",
   "execution_count": 40,
   "id": "6d2a3c29",
   "metadata": {},
   "outputs": [
    {
     "name": "stderr",
     "output_type": "stream",
     "text": [
      "C:\\Users\\holly\\anaconda3\\envs\\Pandas\\lib\\site-packages\\seaborn\\_decorators.py:36: FutureWarning: Pass the following variables as keyword args: x, y. From version 0.12, the only valid positional argument will be `data`, and passing other arguments without an explicit keyword will result in an error or misinterpretation.\n",
      "  warnings.warn(\n"
     ]
    },
    {
     "data": {
      "text/plain": [
       "<AxesSubplot:xlabel='ratings_count', ylabel='title'>"
      ]
     },
     "execution_count": 40,
     "metadata": {},
     "output_type": "execute_result"
    },
    {
     "data": {
      "image/png": "[encoded data removed]",
      "text/plain": [
       "<Figure size 432x288 with 1 Axes>"
      ]
     },
     "metadata": {},
     "output_type": "display_data"
    }
   ],
   "source": [
    "#Rating count Top 10\n",
    "\n",
    "plt.style.use('ggplot')\n",
    "rate_count_top10 = df.sort_values('ratings_count',ascending=False).head(20)\n",
    "sns.barplot(rate_count_top10['ratings_count'],rate_count_top10['title'].head(10), palette='pastel')\n",
    "plt.show()"
   ]
  },
  {
   "cell_type": "code",
   "execution_count": 41,
   "id": "4685bc88",
   "metadata": {},
   "outputs": [
    {
     "name": "stderr",
     "output_type": "stream",
     "text": [
      "C:\\Users\\holly\\anaconda3\\envs\\Pandas\\lib\\site-packages\\seaborn\\_decorators.py:36: FutureWarning: Pass the following variables as keyword args: x, y. From version 0.12, the only valid positional argument will be `data`, and passing other arguments without an explicit keyword will result in an error or misinterpretation.\n",
      "  warnings.warn(\n"
     ]
    },
    {
     "data": {
      "text/plain": [
       "<AxesSubplot:xlabel='text_reviews_count', ylabel='title'>"
      ]
     },
     "execution_count": 41,
     "metadata": {},
     "output_type": "execute_result"
    },
    {
     "data": {
      "image/png": "[encoded data removed]",
      "text/plain": [
       "<Figure size 432x288 with 1 Axes>"
      ]
     },
     "metadata": {},
     "output_type": "display_data"
    }
   ],
   "source": [
    "#Text Reviews top 10\n",
    "\n",
    "textreview_top10 = df.sort_values('text_reviews_count',ascending=False).head(10)\n",
    "sns.barplot(textreview_top10['text_reviews_count'],textreview_top10['title'], palette='pastel')\n",
    "plt.show()\n"
   ]
  },
  {
   "cell_type": "code",
   "execution_count": 42,
   "id": "90ad555c",
   "metadata": {},
   "outputs": [
    {
     "name": "stdout",
     "output_type": "stream",
     "text": [
      "The total number of books with 0 pages is 76\n"
     ]
    },
    {
     "data": {
      "text/html": [
       "<div>\n",
       "<style scoped>\n",
       "    .dataframe tbody tr th:only-of-type {\n",
       "        vertical-align: middle;\n",
       "    }\n",
       "\n",
       "    .dataframe tbody tr th {\n",
       "        vertical-align: top;\n",
       "    }\n",
       "\n",
       "    .dataframe thead th {\n",
       "        text-align: right;\n",
       "    }\n",
       "</style>\n",
       "<table border=\"1\" class=\"dataframe\">\n",
       "  <thead>\n",
       "    <tr style=\"text-align: right;\">\n",
       "      <th></th>\n",
       "      <th>bookID</th>\n",
       "      <th>title</th>\n",
       "      <th>authors</th>\n",
       "      <th>average_rating</th>\n",
       "      <th>isbn</th>\n",
       "      <th>isbn13</th>\n",
       "      <th>language_code</th>\n",
       "      <th>num_pages</th>\n",
       "      <th>ratings_count</th>\n",
       "      <th>text_reviews_count</th>\n",
       "      <th>publication_date</th>\n",
       "      <th>publisher</th>\n",
       "      <th>year</th>\n",
       "    </tr>\n",
       "  </thead>\n",
       "  <tbody>\n",
       "    <tr>\n",
       "      <th>306</th>\n",
       "      <td>955</td>\n",
       "      <td>The 5 Love Languages / The 5 Love Languages Jo...</td>\n",
       "      <td>Gary Chapman</td>\n",
       "      <td>4.70</td>\n",
       "      <td>0802415318</td>\n",
       "      <td>9780802415318</td>\n",
       "      <td>eng</td>\n",
       "      <td>0</td>\n",
       "      <td>22</td>\n",
       "      <td>4</td>\n",
       "      <td>1/1/2005</td>\n",
       "      <td>Moody Publishers</td>\n",
       "      <td>2005</td>\n",
       "    </tr>\n",
       "    <tr>\n",
       "      <th>853</th>\n",
       "      <td>2835</td>\n",
       "      <td>The Tragedy of Pudd'nhead Wilson</td>\n",
       "      <td>Mark Twain/Michael Prichard</td>\n",
       "      <td>3.79</td>\n",
       "      <td>140015068X</td>\n",
       "      <td>9781400150687</td>\n",
       "      <td>eng</td>\n",
       "      <td>0</td>\n",
       "      <td>3</td>\n",
       "      <td>0</td>\n",
       "      <td>1/1/2003</td>\n",
       "      <td>Tantor Media</td>\n",
       "      <td>2003</td>\n",
       "    </tr>\n",
       "    <tr>\n",
       "      <th>1061</th>\n",
       "      <td>3593</td>\n",
       "      <td>Murder by Moonlight &amp; Other Mysteries (New Adv...</td>\n",
       "      <td>NOT A BOOK</td>\n",
       "      <td>4.00</td>\n",
       "      <td>0743564677</td>\n",
       "      <td>9780743564670</td>\n",
       "      <td>eng</td>\n",
       "      <td>0</td>\n",
       "      <td>7</td>\n",
       "      <td>2</td>\n",
       "      <td>10/3/2006</td>\n",
       "      <td>Simon  Schuster Audio</td>\n",
       "      <td>2006</td>\n",
       "    </tr>\n",
       "    <tr>\n",
       "      <th>1064</th>\n",
       "      <td>3599</td>\n",
       "      <td>The Unfortunate Tobacconist &amp; Other Mysteries ...</td>\n",
       "      <td>NOT A BOOK</td>\n",
       "      <td>3.50</td>\n",
       "      <td>074353395X</td>\n",
       "      <td>9780743533959</td>\n",
       "      <td>eng</td>\n",
       "      <td>0</td>\n",
       "      <td>12</td>\n",
       "      <td>1</td>\n",
       "      <td>10/1/2003</td>\n",
       "      <td>Simon &amp; Schuster Audio</td>\n",
       "      <td>2003</td>\n",
       "    </tr>\n",
       "    <tr>\n",
       "      <th>1230</th>\n",
       "      <td>4249</td>\n",
       "      <td>The Da Vinci Code (Robert Langdon  #2)</td>\n",
       "      <td>Dan Brown/Paul Michael</td>\n",
       "      <td>3.84</td>\n",
       "      <td>0739339788</td>\n",
       "      <td>9780739339787</td>\n",
       "      <td>eng</td>\n",
       "      <td>0</td>\n",
       "      <td>91</td>\n",
       "      <td>16</td>\n",
       "      <td>3/28/2006</td>\n",
       "      <td>Random House Audio</td>\n",
       "      <td>2006</td>\n",
       "    </tr>\n",
       "    <tr>\n",
       "      <th>1558</th>\n",
       "      <td>5362</td>\n",
       "      <td>The Summons / The Brethren</td>\n",
       "      <td>John Grisham/Michael Beck/Frank  Muller</td>\n",
       "      <td>3.99</td>\n",
       "      <td>0739342770</td>\n",
       "      <td>9780739342770</td>\n",
       "      <td>eng</td>\n",
       "      <td>0</td>\n",
       "      <td>241</td>\n",
       "      <td>9</td>\n",
       "      <td>10/10/2006</td>\n",
       "      <td>Random House Audio</td>\n",
       "      <td>2006</td>\n",
       "    </tr>\n",
       "  </tbody>\n",
       "</table>\n",
       "</div>"
      ],
      "text/plain": [
       "      bookID                                              title  \\\n",
       "306      955  The 5 Love Languages / The 5 Love Languages Jo...   \n",
       "853     2835                   The Tragedy of Pudd'nhead Wilson   \n",
       "1061    3593  Murder by Moonlight & Other Mysteries (New Adv...   \n",
       "1064    3599  The Unfortunate Tobacconist & Other Mysteries ...   \n",
       "1230    4249             The Da Vinci Code (Robert Langdon  #2)   \n",
       "1558    5362                         The Summons / The Brethren   \n",
       "\n",
       "                                      authors  average_rating        isbn  \\\n",
       "306                              Gary Chapman            4.70  0802415318   \n",
       "853               Mark Twain/Michael Prichard            3.79  140015068X   \n",
       "1061                               NOT A BOOK            4.00  0743564677   \n",
       "1064                               NOT A BOOK            3.50  074353395X   \n",
       "1230                   Dan Brown/Paul Michael            3.84  0739339788   \n",
       "1558  John Grisham/Michael Beck/Frank  Muller            3.99  0739342770   \n",
       "\n",
       "             isbn13 language_code  num_pages  ratings_count  \\\n",
       "306   9780802415318           eng          0             22   \n",
       "853   9781400150687           eng          0              3   \n",
       "1061  9780743564670           eng          0              7   \n",
       "1064  9780743533959           eng          0             12   \n",
       "1230  9780739339787           eng          0             91   \n",
       "1558  9780739342770           eng          0            241   \n",
       "\n",
       "      text_reviews_count publication_date               publisher  year  \n",
       "306                    4         1/1/2005        Moody Publishers  2005  \n",
       "853                    0         1/1/2003            Tantor Media  2003  \n",
       "1061                   2        10/3/2006   Simon  Schuster Audio  2006  \n",
       "1064                   1        10/1/2003  Simon & Schuster Audio  2003  \n",
       "1230                  16        3/28/2006      Random House Audio  2006  \n",
       "1558                   9       10/10/2006      Random House Audio  2006  "
      ]
     },
     "execution_count": 42,
     "metadata": {},
     "output_type": "execute_result"
    },
    {
     "data": {
      "text/plain": [
       "<Figure size 1080x504 with 0 Axes>"
      ]
     },
     "execution_count": 42,
     "metadata": {},
     "output_type": "execute_result"
    },
    {
     "data": {
      "text/plain": [
       "<AxesSubplot:xlabel='year', ylabel='count'>"
      ]
     },
     "execution_count": 42,
     "metadata": {},
     "output_type": "execute_result"
    },
    {
     "data": {
      "image/png": "[encoded data removed]",
      "text/plain": [
       "<Figure size 1080x504 with 1 Axes>"
      ]
     },
     "metadata": {},
     "output_type": "display_data"
    }
   ],
   "source": [
    "page_zero = df[df['num_pages']==0]\n",
    "print('The total number of books with 0 pages is', (page_zero['bookID'].count()))\n",
    "page_zero.head(6)\n",
    "\n",
    "plt.figure(1, figsize=(15,7))\n",
    "sns.countplot(x='year', data=page_zero, palette='twilight')\n",
    "plt.show()"
   ]
  },
  {
   "cell_type": "code",
   "execution_count": 43,
   "id": "c9895b02",
   "metadata": {},
   "outputs": [
    {
     "data": {
      "text/plain": [
       "<Figure size 936x360 with 0 Axes>"
      ]
     },
     "execution_count": 43,
     "metadata": {},
     "output_type": "execute_result"
    },
    {
     "data": {
      "text/plain": [
       "[Text(0, 0, 'Stephen King'),\n",
       " Text(1, 0, 'P.G. Wodehouse'),\n",
       " Text(2, 0, 'Rumiko Takahashi'),\n",
       " Text(3, 0, 'Orson Scott Card'),\n",
       " Text(4, 0, 'Agatha Christie'),\n",
       " Text(5, 0, 'Piers Anthony'),\n",
       " Text(6, 0, 'Mercedes Lackey'),\n",
       " Text(7, 0, 'Sandra Brown'),\n",
       " Text(8, 0, 'Dick Francis'),\n",
       " Text(9, 0, 'Laurell K. Hamilton')]"
      ]
     },
     "execution_count": 43,
     "metadata": {},
     "output_type": "execute_result"
    },
    {
     "data": {
      "image/png": "[encoded data removed]",
      "text/plain": [
       "<Figure size 936x360 with 1 Axes>"
      ]
     },
     "metadata": {},
     "output_type": "display_data"
    },
    {
     "data": {
      "text/plain": [
       "Stephen King           40\n",
       "P.G. Wodehouse         40\n",
       "Rumiko Takahashi       39\n",
       "Orson Scott Card       35\n",
       "Agatha Christie        33\n",
       "Piers Anthony          30\n",
       "Mercedes Lackey        29\n",
       "Sandra Brown           29\n",
       "Dick Francis           28\n",
       "Laurell K. Hamilton    23\n",
       "Name: authors, dtype: int64"
      ]
     },
     "execution_count": 43,
     "metadata": {},
     "output_type": "execute_result"
    }
   ],
   "source": [
    "#Top 10 authors\n",
    "\n",
    "plt.figure(1, figsize=(13,5))\n",
    "ax = sns.countplot(x='authors', order=df.authors.value_counts().index[0:10], data=df, palette='pastel')\n",
    "ax.set_xticklabels(ax.get_xticklabels(), rotation=40, ha='right')\n",
    "plt.show()\n",
    "\n",
    "df['authors'].value_counts().head(10)"
   ]
  },
  {
   "cell_type": "code",
   "execution_count": 44,
   "id": "f68d1fee",
   "metadata": {},
   "outputs": [
    {
     "data": {
      "text/plain": [
       "<Figure size 1152x504 with 0 Axes>"
      ]
     },
     "execution_count": 44,
     "metadata": {},
     "output_type": "execute_result"
    },
    {
     "data": {
      "text/plain": [
       "<seaborn.axisgrid.FacetGrid at 0x1d3d47c5be0>"
      ]
     },
     "execution_count": 44,
     "metadata": {},
     "output_type": "execute_result"
    },
    {
     "data": {
      "text/plain": [
       "<Figure size 1152x504 with 0 Axes>"
      ]
     },
     "metadata": {},
     "output_type": "display_data"
    },
    {
     "data": {
      "image/png": "[encoded data removed]",
      "text/plain": [
       "<Figure size 360x360 with 1 Axes>"
      ]
     },
     "metadata": {},
     "output_type": "display_data"
    },
    {
     "data": {
      "text/plain": [
       "<Figure size 1152x504 with 0 Axes>"
      ]
     },
     "execution_count": 44,
     "metadata": {},
     "output_type": "execute_result"
    },
    {
     "data": {
      "text/plain": [
       "<AxesSubplot:xlabel='year', ylabel='Count'>"
      ]
     },
     "execution_count": 44,
     "metadata": {},
     "output_type": "execute_result"
    },
    {
     "data": {
      "image/png": "[encoded data removed]",
      "text/plain": [
       "<Figure size 1152x504 with 1 Axes>"
      ]
     },
     "metadata": {},
     "output_type": "display_data"
    }
   ],
   "source": [
    "#displot vs histplot vis example\n",
    "\n",
    "plt.figure(1, figsize=(16,7))\n",
    "sns.displot(df['year'].head(20))\n",
    "plt.show()\n",
    "\n",
    "\n",
    "plt.figure(1, figsize=(16,7))\n",
    "sns.histplot(df['year'].head(20))\n",
    "plt.show()"
   ]
  },
  {
   "cell_type": "code",
   "execution_count": 45,
   "id": "a34ee1eb",
   "metadata": {},
   "outputs": [],
   "source": [
    "#import pandas_profiling as pp\n"
   ]
  },
  {
   "cell_type": "code",
   "execution_count": 46,
   "id": "3e8e5f36",
   "metadata": {},
   "outputs": [],
   "source": [
    "#pp.ProfileReport(df)"
   ]
  },
  {
   "cell_type": "markdown",
   "id": "ca3d9e14",
   "metadata": {},
   "source": [
    "# Using Matplotlib- 2 diff ways"
   ]
  },
  {
   "cell_type": "code",
   "execution_count": 47,
   "id": "98da7317",
   "metadata": {},
   "outputs": [
    {
     "data": {
      "text/plain": [
       "[<matplotlib.lines.Line2D at 0x1d3d5c4f490>]"
      ]
     },
     "execution_count": 47,
     "metadata": {},
     "output_type": "execute_result"
    },
    {
     "data": {
      "text/plain": [
       "[<matplotlib.lines.Line2D at 0x1d3d5c4f6d0>]"
      ]
     },
     "execution_count": 47,
     "metadata": {},
     "output_type": "execute_result"
    },
    {
     "data": {
      "text/plain": [
       "[<matplotlib.lines.Line2D at 0x1d3d5c4fa00>]"
      ]
     },
     "execution_count": 47,
     "metadata": {},
     "output_type": "execute_result"
    },
    {
     "data": {
      "text/plain": [
       "Text(0.5, 0, 'x label')"
      ]
     },
     "execution_count": 47,
     "metadata": {},
     "output_type": "execute_result"
    },
    {
     "data": {
      "text/plain": [
       "Text(0, 0.5, 'y label')"
      ]
     },
     "execution_count": 47,
     "metadata": {},
     "output_type": "execute_result"
    },
    {
     "data": {
      "text/plain": [
       "Text(0.5, 1.0, 'simple plot')"
      ]
     },
     "execution_count": 47,
     "metadata": {},
     "output_type": "execute_result"
    },
    {
     "data": {
      "text/plain": [
       "<matplotlib.legend.Legend at 0x1d3d5bdaac0>"
      ]
     },
     "execution_count": 47,
     "metadata": {},
     "output_type": "execute_result"
    },
    {
     "data": {
      "image/png": "[encoded data removed]",
      "text/plain": [
       "<Figure size 360x180 with 1 Axes>"
      ]
     },
     "metadata": {},
     "output_type": "display_data"
    }
   ],
   "source": [
    "#Object oriented matplotlib example- Create figures and axes (the objects) and call methods on them. \n",
    "#It is flexible and customizable\n",
    "\n",
    "x=np.linspace(0, 2, 100)  # sample data-list of numbers\n",
    "\n",
    "#Even in the 00-style we use .pyplot.figure to create the figure\n",
    "\n",
    "fig, ax= plt.subplots(figsize=(5, 2.5)) #Create the figure and axes 5 is the width, 2.5 is the height\n",
    "\n",
    "ax.plot(x,x, label='linear') #plot some data on the axes\n",
    "ax.plot(x,x**2, label='quadratic') #plot some data on the axes\n",
    "ax.plot(x,x**3, label='cubic') #plot some data on the axes\n",
    "ax.set_xlabel('x label') #Add an x label\n",
    "ax.set_ylabel('y label') #Add a y label\n",
    "ax.set_title('simple plot') #Add a title\n",
    "ax.legend() #Add a legend\n",
    "\n",
    "\n",
    "\n"
   ]
  },
  {
   "cell_type": "code",
   "execution_count": 48,
   "id": "cbd63c08",
   "metadata": {},
   "outputs": [
    {
     "data": {
      "text/plain": [
       "<Figure size 360x360 with 0 Axes>"
      ]
     },
     "execution_count": 48,
     "metadata": {},
     "output_type": "execute_result"
    },
    {
     "data": {
      "text/plain": [
       "[<matplotlib.lines.Line2D at 0x1d3d60feca0>]"
      ]
     },
     "execution_count": 48,
     "metadata": {},
     "output_type": "execute_result"
    },
    {
     "data": {
      "text/plain": [
       "[<matplotlib.lines.Line2D at 0x1d3d60fef10>]"
      ]
     },
     "execution_count": 48,
     "metadata": {},
     "output_type": "execute_result"
    },
    {
     "data": {
      "text/plain": [
       "[<matplotlib.lines.Line2D at 0x1d3d610b280>]"
      ]
     },
     "execution_count": 48,
     "metadata": {},
     "output_type": "execute_result"
    },
    {
     "data": {
      "text/plain": [
       "Text(0.5, 0, 'x label')"
      ]
     },
     "execution_count": 48,
     "metadata": {},
     "output_type": "execute_result"
    },
    {
     "data": {
      "text/plain": [
       "Text(0, 0.5, 'y label')"
      ]
     },
     "execution_count": 48,
     "metadata": {},
     "output_type": "execute_result"
    },
    {
     "data": {
      "text/plain": [
       "Text(0.5, 1.0, 'simple plot')"
      ]
     },
     "execution_count": 48,
     "metadata": {},
     "output_type": "execute_result"
    },
    {
     "data": {
      "text/plain": [
       "<matplotlib.legend.Legend at 0x1d3d610b430>"
      ]
     },
     "execution_count": 48,
     "metadata": {},
     "output_type": "execute_result"
    },
    {
     "data": {
      "image/png": "[encoded data removed]",
      "text/plain": [
       "<Figure size 360x360 with 1 Axes>"
      ]
     },
     "metadata": {},
     "output_type": "display_data"
    }
   ],
   "source": [
    "#Pyplot interface- Quick and simple\n",
    "\n",
    "#Import matplotlib.pyplot as plt\n",
    "\n",
    "x=np.linspace(0, 2, 100)  # sample data\n",
    "plt.figure(figsize=(5, 5))\n",
    "\n",
    "plt.plot(x,x, label='linear') #plot some data on the axes\n",
    "plt.plot(x,x**2, label='quadratic') #plot some data on the axes\n",
    "plt.plot(x,x**3, label='cubic') #plot some data on the axes\n",
    "plt.xlabel('x label') #Add an x label\n",
    "plt.ylabel('y label') #Add a y label\n",
    "plt.title('simple plot') #Add a title\n",
    "plt.legend() #Add a legend"
   ]
  },
  {
   "cell_type": "code",
   "execution_count": 49,
   "id": "c1b3d0c3",
   "metadata": {},
   "outputs": [],
   "source": [
    "dataset1, dataset2, dataset3, dataset4=np.random.randn(4, 100) #make 4 random datasets\n"
   ]
  },
  {
   "cell_type": "code",
   "execution_count": 50,
   "id": "0e9a90bc",
   "metadata": {
    "scrolled": true
   },
   "outputs": [
    {
     "data": {
      "text/plain": [
       "array([  0.        ,  -0.97979798,  -1.95959596,  -2.93939394,\n",
       "        -3.91919192,  -4.8989899 ,  -5.87878788,  -6.85858586,\n",
       "        -7.83838384,  -8.81818182,  -9.7979798 , -10.77777778,\n",
       "       -11.75757576, -12.73737374, -13.71717172, -14.6969697 ,\n",
       "       -15.67676768, -16.65656566, -17.63636364, -18.61616162,\n",
       "       -19.5959596 , -20.57575758, -21.55555556, -22.53535354,\n",
       "       -23.51515152, -24.49494949, -25.47474747, -26.45454545,\n",
       "       -27.43434343, -28.41414141, -29.39393939, -30.37373737,\n",
       "       -31.35353535, -32.33333333, -33.31313131, -34.29292929,\n",
       "       -35.27272727, -36.25252525, -37.23232323, -38.21212121,\n",
       "       -39.19191919, -40.17171717, -41.15151515, -42.13131313,\n",
       "       -43.11111111, -44.09090909, -45.07070707, -46.05050505,\n",
       "       -47.03030303, -48.01010101, -48.98989899, -49.96969697,\n",
       "       -50.94949495, -51.92929293, -52.90909091, -53.88888889,\n",
       "       -54.86868687, -55.84848485, -56.82828283, -57.80808081,\n",
       "       -58.78787879, -59.76767677, -60.74747475, -61.72727273,\n",
       "       -62.70707071, -63.68686869, -64.66666667, -65.64646465,\n",
       "       -66.62626263, -67.60606061, -68.58585859, -69.56565657,\n",
       "       -70.54545455, -71.52525253, -72.50505051, -73.48484848,\n",
       "       -74.46464646, -75.44444444, -76.42424242, -77.4040404 ,\n",
       "       -78.38383838, -79.36363636, -80.34343434, -81.32323232,\n",
       "       -82.3030303 , -83.28282828, -84.26262626, -85.24242424,\n",
       "       -86.22222222, -87.2020202 , -88.18181818, -89.16161616,\n",
       "       -90.14141414, -91.12121212, -92.1010101 , -93.08080808,\n",
       "       -94.06060606, -95.04040404, -96.02020202, -97.        ])"
      ]
     },
     "execution_count": 50,
     "metadata": {},
     "output_type": "execute_result"
    },
    {
     "data": {
      "text/plain": [
       "[<matplotlib.lines.Line2D at 0x1d3d61c82b0>]"
      ]
     },
     "execution_count": 50,
     "metadata": {},
     "output_type": "execute_result"
    },
    {
     "data": {
      "text/plain": [
       "[<matplotlib.lines.Line2D at 0x1d3d61c84f0>]"
      ]
     },
     "execution_count": 50,
     "metadata": {},
     "output_type": "execute_result"
    },
    {
     "data": {
      "text/plain": [
       "Text(0.5, 0, 'x label')"
      ]
     },
     "execution_count": 50,
     "metadata": {},
     "output_type": "execute_result"
    },
    {
     "data": {
      "text/plain": [
       "Text(0, 0.5, 'y label')"
      ]
     },
     "execution_count": 50,
     "metadata": {},
     "output_type": "execute_result"
    },
    {
     "data": {
      "text/plain": [
       "Text(0.5, 1.0, 'A really cool plot')"
      ]
     },
     "execution_count": 50,
     "metadata": {},
     "output_type": "execute_result"
    },
    {
     "data": {
      "text/plain": [
       "Text(25, -9, 'Look Here!')"
      ]
     },
     "execution_count": 50,
     "metadata": {},
     "output_type": "execute_result"
    },
    {
     "data": {
      "text/plain": [
       "<matplotlib.legend.Legend at 0x1d3d61ba100>"
      ]
     },
     "execution_count": 50,
     "metadata": {},
     "output_type": "execute_result"
    },
    {
     "data": {
      "image/png": "[encoded data removed]",
      "text/plain": [
       "<Figure size 576x216 with 2 Axes>"
      ]
     },
     "metadata": {},
     "output_type": "display_data"
    }
   ],
   "source": [
    "fig, ax= plt.subplots(2, 1, figsize=(8, 3)) #Create the figure and axes. 2 subplots, 1 column, 8 is the width, 3 is height\n",
    "x-np.arange(len(dataset1))\n",
    "\n",
    "ax[0].plot(x, np.cumsum(dataset1), color='purple', linewidth=2, linestyle='--', label='data1')\n",
    "ax[1].plot(x, np.cumsum(dataset2), marker='>',color='C0', markersize=3, linewidth=.5, label='data2') #specify color as colocode\n",
    "\n",
    "ax[1].set_xlabel('x label', fontsize=14, color='blue')\n",
    "ax[1].set_ylabel('y label')\n",
    "\n",
    "ax[0].set_title('A really cool plot', fontsize=20) #Add a title\n",
    "\n",
    "ax[1].grid(True)\n",
    "ax[1].annotate('Look Here!', xy=(20, -15), xytext=(25, -9), arrowprops=dict(facecolor='black', shrink=0.05))\n",
    "\n",
    "ax[0].legend()\n",
    "\n",
    "plt.show()"
   ]
  },
  {
   "cell_type": "markdown",
   "id": "477b76b9",
   "metadata": {},
   "source": [
    "# Seaborn"
   ]
  },
  {
   "cell_type": "markdown",
   "id": "8e2fe7a9",
   "metadata": {},
   "source": [
    "**Color Palettes in Seaborn**\n",
    "\n",
    "supported values are 'Accent', 'Accent_r', 'Blues', 'Blues_r', 'BrBG', 'BrBG_r', 'BuGn', 'BuGn_r', 'BuPu', 'BuPu_r', 'CMRmap', 'CMRmap_r', 'Dark2', 'Dark2_r', 'GnBu', 'GnBu_r', 'Greens', 'Greens_r', 'Greys', 'Greys_r', 'OrRd', 'OrRd_r', 'Oranges', 'Oranges_r', 'PRGn', 'PRGn_r', 'Paired', 'Paired_r', 'Pastel1', 'Pastel1_r', 'Pastel2', 'Pastel2_r', 'PiYG', 'PiYG_r', 'PuBu', 'PuBuGn', 'PuBuGn_r', 'PuBu_r', 'PuOr', 'PuOr_r', 'PuRd', 'PuRd_r', 'Purples', 'Purples_r', 'RdBu', 'RdBu_r', 'RdGy', 'RdGy_r', 'RdPu', 'RdPu_r', 'RdYlBu', 'RdYlBu_r', 'RdYlGn', 'RdYlGn_r', 'Reds', 'Reds_r', 'Set1', 'Set1_r', 'Set2', 'Set2_r', 'Set3', 'Set3_r', 'Spectral', 'Spectral_r', 'Wistia', 'Wistia_r', 'YlGn', 'YlGnBu', 'YlGnBu_r', 'YlGn_r', 'YlOrBr', 'YlOrBr_r', 'YlOrRd', 'YlOrRd_r', 'afmhot', 'afmhot_r', 'autumn', 'autumn_r', 'binary', 'binary_r', 'bone', 'bone_r', 'brg', 'brg_r', 'bwr', 'bwr_r', 'cividis', 'cividis_r', 'cool', 'cool_r', 'coolwarm', 'coolwarm_r', 'copper', 'copper_r', 'crest', 'crest_r', 'cubehelix', 'cubehelix_r', 'flag', 'flag_r', 'flare', 'flare_r', 'gist_earth', 'gist_earth_r', 'gist_gray', 'gist_gray_r', 'gist_heat', 'gist_heat_r', 'gist_ncar', 'gist_ncar_r', 'gist_rainbow', 'gist_rainbow_r', 'gist_stern', 'gist_stern_r', 'gist_yarg', 'gist_yarg_r', 'gnuplot', 'gnuplot2', 'gnuplot2_r', 'gnuplot_r', 'gray', 'gray_r', 'hot', 'hot_r', 'hsv', 'hsv_r', 'icefire', 'icefire_r', 'inferno', 'inferno_r', 'jet', 'jet_r', 'magma', 'magma_r', 'mako', 'mako_r', 'nipy_spectral', 'nipy_spectral_r', 'ocean', 'ocean_r', 'pink', 'pink_r', 'plasma', 'plasma_r', 'prism', 'prism_r', 'rainbow', 'rainbow_r', 'rocket', 'rocket_r', 'seismic', 'seismic_r', 'spring', 'spring_r', 'summer', 'summer_r', 'tab10', 'tab10_r', 'tab20', 'tab20_r', 'tab20b', 'tab20b_r', 'tab20c', 'tab20c_r', 'terrain', 'terrain_r', 'turbo', 'turbo_r', 'twilight', 'twilight_r', 'twilight_shifted', 'twilight_shifted_r', 'viridis', 'viridis_r', 'vlag', 'vlag_r', 'winter', 'winter_r'\n"
   ]
  },
  {
   "cell_type": "code",
   "execution_count": 51,
   "id": "96141616",
   "metadata": {},
   "outputs": [
    {
     "data": {
      "text/plain": [
       "<AxesSubplot:>"
      ]
     },
     "execution_count": 51,
     "metadata": {},
     "output_type": "execute_result"
    },
    {
     "data": {
      "text/plain": [
       "Text(0.5, 1.0, 'Title using Matplotlib')"
      ]
     },
     "execution_count": 51,
     "metadata": {},
     "output_type": "execute_result"
    },
    {
     "data": {
      "text/plain": [
       "<AxesSubplot:title={'center':'Title using Matplotlib'}, xlabel='sepal_length', ylabel='sepal_width'>"
      ]
     },
     "execution_count": 51,
     "metadata": {},
     "output_type": "execute_result"
    },
    {
     "data": {
      "text/plain": [
       "[]"
      ]
     },
     "execution_count": 51,
     "metadata": {},
     "output_type": "execute_result"
    },
    {
     "data": {
      "text/plain": [
       "<AxesSubplot:>"
      ]
     },
     "execution_count": 51,
     "metadata": {},
     "output_type": "execute_result"
    },
    {
     "data": {
      "text/plain": [
       "<AxesSubplot:xlabel='sepal_length', ylabel='sepal_width'>"
      ]
     },
     "execution_count": 51,
     "metadata": {},
     "output_type": "execute_result"
    },
    {
     "data": {
      "text/plain": [
       "[]"
      ]
     },
     "execution_count": 51,
     "metadata": {},
     "output_type": "execute_result"
    },
    {
     "data": {
      "image/png": "[encoded data removed]",
      "text/plain": [
       "<Figure size 432x288 with 2 Axes>"
      ]
     },
     "metadata": {},
     "output_type": "display_data"
    }
   ],
   "source": [
    "#NB Seaborn and Matplotlib can be used together\n",
    "\n",
    "#Loading dataset\n",
    "data=sns.load_dataset('iris') #Anything that starts with sns is seaborn\n",
    "\n",
    "#Making one plot\n",
    "sns.set_palette('twilight') #set color scheme\n",
    "plt.subplot(211) #defines where we want our subplot to be: 2 subplots, 1 column in the first(1) plot\n",
    "\n",
    "#Set the title using Matplotlib\n",
    "plt.title('Title using Matplotlib')\n",
    "\n",
    "sns.lineplot(x='sepal_length', y='sepal_width', data=data)\n",
    "plt.plot()\n",
    "\n",
    "#Making another plot\n",
    "sns.set_palette('hsv_r') #set color scheme\n",
    "plt.subplot(212) #defines where we want our subplot to be: 2 subplots, 1 column in the second(2) plot\n",
    "\n",
    "#Set the title using Matplotlib\n",
    "#plt.title('Title using Matplotlib')\n",
    "\n",
    "sns.lineplot(x='sepal_length', y='sepal_width', data=data)\n",
    "plt.plot()\n",
    "\n",
    "plt.show()"
   ]
  }
 ],
 "metadata": {
  "kernelspec": {
   "display_name": "Python 3 (ipykernel)",
   "language": "python",
   "name": "python3"
  },
  "language_info": {
   "codemirror_mode": {
    "name": "ipython",
    "version": 3
   },
   "file_extension": ".py",
   "mimetype": "text/x-python",
   "name": "python",
   "nbconvert_exporter": "python",
   "pygments_lexer": "ipython3",
   "version": "3.9.12"
  }
 },
 "nbformat": 4,
 "nbformat_minor": 5
}
